{
  "cells": [
    {
      "cell_type": "markdown",
      "metadata": {
        "id": "view-in-github",
        "colab_type": "text"
      },
      "source": [
        "<a href=\"https://colab.research.google.com/github/seyyaw/summerschool/blob/main/NLP_II.ipynb\" target=\"_parent\"><img src=\"https://colab.research.google.com/assets/colab-badge.svg\" alt=\"Open In Colab\"/></a>"
      ]
    },
    {
      "cell_type": "code",
      "execution_count": null,
      "id": "6a9de878",
      "metadata": {
        "id": "6a9de878",
        "outputId": "50d23f4c-d56d-4eeb-9339-68bc0964bf13"
      },
      "outputs": [
        {
          "data": {
            "text/html": [
              "<style> \n",
              "table {display: block;} \n",
              "td {\n",
              "  font-size: 18px\n",
              "}\n",
              ".rendered_html { font-size: 28px; }\n",
              "*{ line-height: 200%; }\n",
              "</style>\n"
            ],
            "text/plain": [
              "<IPython.core.display.HTML object>"
            ]
          },
          "metadata": {},
          "output_type": "display_data"
        }
      ],
      "source": [
        "%%html\n",
        "<style>\n",
        "table {display: block;}\n",
        "td {\n",
        "  font-size: 18px\n",
        "}\n",
        ".rendered_html { font-size: 28px; }\n",
        "*{ line-height: 200%; }\n",
        "</style>"
      ]
    },
    {
      "cell_type": "markdown",
      "id": "ea958250",
      "metadata": {
        "id": "ea958250"
      },
      "source": [
        "# Summer School for Women in AI and Data Sceince\n",
        "---\n",
        "---\n",
        "# <span style=\"color:blue\">Natural Language Processing - II</span>\n",
        " ---\n",
        "## -  <span style=\"color:red\">Seid Muhie Yimam  - UHH, HCDS</span>\n",
        "## -  <span style=\"color:red\">Hellina Hailu Negatu -  University of Berkeley</span>\n",
        "---\n",
        "---"
      ]
    },
    {
      "cell_type": "markdown",
      "id": "88d086e0",
      "metadata": {
        "id": "88d086e0"
      },
      "source": [
        "# Content\n",
        "1. Further text processing\n",
        "1. NLP applications, ML, and Feature engineering\n",
        "1. Text representation\n",
        "   1. One hot embedding/bag of words\n",
        "   1. TFIDF\n",
        "   1. Word2vec\n",
        "   1. Transformer, BERT and RoBERTa\n",
        "1. Large Language Models\n",
        "1. Resources and repositories"
      ]
    },
    {
      "cell_type": "markdown",
      "id": "adde313c",
      "metadata": {
        "id": "adde313c"
      },
      "source": [
        "# Text preprocessing\n",
        "\n",
        "Preprocessing involves cleaning the input data to reduce noise, ensuring that the resulting model is more accurate and effective. Otherwise, the principle of <span style=\"color:blue\">garbage in, garbage out</span> applies.\n"
      ]
    },
    {
      "cell_type": "markdown",
      "id": "01ceb6fc",
      "metadata": {
        "id": "01ceb6fc"
      },
      "source": [
        "Some preprocessing include:\n",
        "- Removing extra white space\n",
        "- Remove stop words\n",
        "- Converting or restoring cases (upper case and lower case)\n",
        "- Remove punctuations"
      ]
    },
    {
      "cell_type": "code",
      "execution_count": null,
      "id": "6b06f2e7",
      "metadata": {
        "id": "6b06f2e7",
        "outputId": "97b7057b-62db-4428-be10-fa5bf06df5f6"
      },
      "outputs": [
        {
          "name": "stdout",
          "output_type": "stream",
          "text": [
            "Original message==> I SAW THE MAN ON THE HILL WITH A TELESCOPE\n",
            "lowered message==> i saw the man on the hill with a telescope\n"
          ]
        }
      ],
      "source": [
        "# Lowercasing\n",
        "text = \"I SAW THE MAN ON THE HILL WITH A TELESCOPE\"\n",
        "print (\"Original message==>\", text)\n",
        "print (\"lowered message==>\", text.lower())"
      ]
    },
    {
      "cell_type": "markdown",
      "id": "a4788da1",
      "metadata": {
        "id": "a4788da1"
      },
      "source": [
        "## Dealing with spaces"
      ]
    },
    {
      "cell_type": "code",
      "execution_count": null,
      "id": "24f46460",
      "metadata": {
        "id": "24f46460",
        "outputId": "cfead7f0-b254-46b4-c447-b96df2341297"
      },
      "outputs": [
        {
          "name": "stdout",
          "output_type": "stream",
          "text": [
            "Original message==>      I saw the man on the        hill with a telescope    \n",
            "lowered message==> I saw the man on the        hill with a telescope\n"
          ]
        }
      ],
      "source": [
        "# removing leading and trai\n",
        "text  = \"     I saw the man on the        hill with a telescope    \"\n",
        "print (\"Original message==>\", text)\n",
        "print (\"lowered message==>\", text.strip())"
      ]
    },
    {
      "cell_type": "code",
      "execution_count": null,
      "id": "05119da4",
      "metadata": {
        "id": "05119da4",
        "outputId": "fd181033-8ec5-4569-ce85-2ae55527ace0"
      },
      "outputs": [
        {
          "name": "stdout",
          "output_type": "stream",
          "text": [
            "Original message==>      I saw the man on the        hill with a telescope    \n",
            "lowered message==> Isawthemanonthehillwithatelescope\n"
          ]
        }
      ],
      "source": [
        "# Removing all spaces\n",
        "text  = \"     I saw the man on the        hill with a telescope    \"\n",
        "print (\"Original message==>\", text)\n",
        "print (\"lowered message==>\", text.replace(\" \", \"\"))"
      ]
    },
    {
      "cell_type": "code",
      "execution_count": null,
      "id": "0ae93347",
      "metadata": {
        "id": "0ae93347",
        "outputId": "aeb2ca0e-2a00-4c20-877b-6e0a61f9b3b8"
      },
      "outputs": [
        {
          "name": "stdout",
          "output_type": "stream",
          "text": [
            "Original message==>      I saw the man on the        hill with a telescope    \n",
            "lowered message==> I saw the man on the hill with a telescope\n"
          ]
        }
      ],
      "source": [
        "# Remove duplicate space\n",
        "text  = \"     I saw the man on the        hill with a telescope    \"\n",
        "print (\"Original message==>\", text)\n",
        "print (\"lowered message==>\", ' '.join(text.split()))"
      ]
    },
    {
      "cell_type": "code",
      "execution_count": null,
      "id": "d54ca1d9",
      "metadata": {
        "id": "d54ca1d9",
        "outputId": "21193cf3-df93-4266-81c9-8512a995994d"
      },
      "outputs": [
        {
          "name": "stdout",
          "output_type": "stream",
          "text": [
            "Remove all spaces using regex ==>Isawthemanonthehillwithatelescope\n",
            "Remove leading spaces using regex ==>I saw the man on the        hill with a telescope    \n",
            "Remove trailing spaces using regex ==>     I saw the man on the        hill with a telescope\n",
            "Remove leading and trailing spaces using regex ==>I saw the man on the        hill with a telescope\n"
          ]
        }
      ],
      "source": [
        "# Remove white space using Regex\n",
        "import re\n",
        "\n",
        "text  = \"     I saw the man on the        hill with a telescope    \"\n",
        "print('Remove all spaces using regex ==>', re.sub(r\"\\s+\", \"\", text), sep='')  # \\s matches all white spaces\n",
        "print('Remove leading spaces using regex ==>', re.sub(r\"^\\s+\", \"\", text), sep='')  # ^ matches start\n",
        "print('Remove trailing spaces using regex ==>', re.sub(r\"\\s+$\", \"\", text), sep='')  # $ matches end\n",
        "print('Remove leading and trailing spaces using regex ==>', re.sub(r\"^\\s+|\\s+$\", \"\", text), sep='')  # | for OR condition"
      ]
    },
    {
      "cell_type": "markdown",
      "id": "9176ee0a",
      "metadata": {
        "id": "9176ee0a"
      },
      "source": [
        "# Stopwords\n",
        "Stop words are words ignored by search engines in search queries, typically including articles, prepositions, pronouns, and auxiliary verbs. The default English stop word list features words such as **a**,**the**, **and**, and **is**, among others."
      ]
    },
    {
      "cell_type": "code",
      "execution_count": null,
      "id": "6659f185",
      "metadata": {
        "id": "6659f185",
        "outputId": "bfda4afc-1ce6-450f-cf33-93f05c0707af"
      },
      "outputs": [
        {
          "name": "stdout",
          "output_type": "stream",
          "text": [
            "['i', 'me', 'my', 'myself', 'we', 'our', 'ours', 'ourselves', 'you', \"you're\", \"you've\", \"you'll\", \"you'd\", 'your', 'yours', 'yourself', 'yourselves', 'he', 'him', 'his', 'himself', 'she', \"she's\", 'her', 'hers', 'herself', 'it', \"it's\", 'its', 'itself', 'they', 'them', 'their', 'theirs', 'themselves', 'what', 'which', 'who', 'whom', 'this', 'that', \"that'll\", 'these', 'those', 'am', 'is', 'are', 'was', 'were', 'be', 'been', 'being', 'have', 'has', 'had', 'having', 'do', 'does', 'did', 'doing', 'a', 'an', 'the', 'and', 'but', 'if', 'or', 'because', 'as', 'until', 'while', 'of', 'at', 'by', 'for', 'with', 'about', 'against', 'between', 'into', 'through', 'during', 'before', 'after', 'above', 'below', 'to', 'from', 'up', 'down', 'in', 'out', 'on', 'off', 'over', 'under', 'again', 'further', 'then', 'once', 'here', 'there', 'when', 'where', 'why', 'how', 'all', 'any', 'both', 'each', 'few', 'more', 'most', 'other', 'some', 'such', 'no', 'nor', 'not', 'only', 'own', 'same', 'so', 'than', 'too', 'very', 's', 't', 'can', 'will', 'just', 'don', \"don't\", 'should', \"should've\", 'now', 'd', 'll', 'm', 'o', 're', 've', 'y', 'ain', 'aren', \"aren't\", 'couldn', \"couldn't\", 'didn', \"didn't\", 'doesn', \"doesn't\", 'hadn', \"hadn't\", 'hasn', \"hasn't\", 'haven', \"haven't\", 'isn', \"isn't\", 'ma', 'mightn', \"mightn't\", 'mustn', \"mustn't\", 'needn', \"needn't\", 'shan', \"shan't\", 'shouldn', \"shouldn't\", 'wasn', \"wasn't\", 'weren', \"weren't\", 'won', \"won't\", 'wouldn', \"wouldn't\"]\n"
          ]
        },
        {
          "name": "stderr",
          "output_type": "stream",
          "text": [
            "[nltk_data] Downloading package stopwords to /Users/yimam/nltk_data...\n",
            "[nltk_data]   Package stopwords is already up-to-date!\n"
          ]
        }
      ],
      "source": [
        "# Get stopwords from nltk\n",
        "import nltk\n",
        "from nltk.corpus import stopwords\n",
        "nltk.download('stopwords')\n",
        "print(stopwords.words('english'))"
      ]
    },
    {
      "cell_type": "code",
      "execution_count": null,
      "id": "bfeefe30",
      "metadata": {
        "id": "bfeefe30",
        "outputId": "14d83872-379b-44aa-ae55-40921775692e"
      },
      "outputs": [
        {
          "name": "stdout",
          "output_type": "stream",
          "text": [
            "['aber', 'alle', 'allem', 'allen', 'aller', 'alles', 'als', 'also', 'am', 'an', 'ander', 'andere', 'anderem', 'anderen', 'anderer', 'anderes', 'anderm', 'andern', 'anderr', 'anders', 'auch', 'auf', 'aus', 'bei', 'bin', 'bis', 'bist', 'da', 'damit', 'dann', 'der', 'den', 'des', 'dem', 'die', 'das', 'dass', 'daß', 'derselbe', 'derselben', 'denselben', 'desselben', 'demselben', 'dieselbe', 'dieselben', 'dasselbe', 'dazu', 'dein', 'deine', 'deinem', 'deinen', 'deiner', 'deines', 'denn', 'derer', 'dessen', 'dich', 'dir', 'du', 'dies', 'diese', 'diesem', 'diesen', 'dieser', 'dieses', 'doch', 'dort', 'durch', 'ein', 'eine', 'einem', 'einen', 'einer', 'eines', 'einig', 'einige', 'einigem', 'einigen', 'einiger', 'einiges', 'einmal', 'er', 'ihn', 'ihm', 'es', 'etwas', 'euer', 'eure', 'eurem', 'euren', 'eurer', 'eures', 'für', 'gegen', 'gewesen', 'hab', 'habe', 'haben', 'hat', 'hatte', 'hatten', 'hier', 'hin', 'hinter', 'ich', 'mich', 'mir', 'ihr', 'ihre', 'ihrem', 'ihren', 'ihrer', 'ihres', 'euch', 'im', 'in', 'indem', 'ins', 'ist', 'jede', 'jedem', 'jeden', 'jeder', 'jedes', 'jene', 'jenem', 'jenen', 'jener', 'jenes', 'jetzt', 'kann', 'kein', 'keine', 'keinem', 'keinen', 'keiner', 'keines', 'können', 'könnte', 'machen', 'man', 'manche', 'manchem', 'manchen', 'mancher', 'manches', 'mein', 'meine', 'meinem', 'meinen', 'meiner', 'meines', 'mit', 'muss', 'musste', 'nach', 'nicht', 'nichts', 'noch', 'nun', 'nur', 'ob', 'oder', 'ohne', 'sehr', 'sein', 'seine', 'seinem', 'seinen', 'seiner', 'seines', 'selbst', 'sich', 'sie', 'ihnen', 'sind', 'so', 'solche', 'solchem', 'solchen', 'solcher', 'solches', 'soll', 'sollte', 'sondern', 'sonst', 'über', 'um', 'und', 'uns', 'unsere', 'unserem', 'unseren', 'unser', 'unseres', 'unter', 'viel', 'vom', 'von', 'vor', 'während', 'war', 'waren', 'warst', 'was', 'weg', 'weil', 'weiter', 'welche', 'welchem', 'welchen', 'welcher', 'welches', 'wenn', 'werde', 'werden', 'wie', 'wieder', 'will', 'wir', 'wird', 'wirst', 'wo', 'wollen', 'wollte', 'würde', 'würden', 'zu', 'zum', 'zur', 'zwar', 'zwischen']\n"
          ]
        }
      ],
      "source": [
        "print(stopwords.words('german'))"
      ]
    },
    {
      "cell_type": "code",
      "execution_count": null,
      "id": "04da6944",
      "metadata": {
        "id": "04da6944"
      },
      "outputs": [],
      "source": [
        "#Try the following, there is no stopwords for Amahric in nltk\n",
        "# print(stopwords.words('amharic'))"
      ]
    },
    {
      "cell_type": "markdown",
      "id": "16bde107",
      "metadata": {
        "id": "16bde107"
      },
      "source": [
        "# spaCy stopwrds\n"
      ]
    },
    {
      "cell_type": "code",
      "execution_count": null,
      "id": "2aa6c10c",
      "metadata": {
        "id": "2aa6c10c",
        "outputId": "f3198d19-cf6c-4115-98c8-433cff802931"
      },
      "outputs": [
        {
          "name": "stdout",
          "output_type": "stream",
          "text": [
            "Original Text: I saw the man on the hill with a telescope\n",
            "Text after Stopword Removal: saw man hill telescope\n"
          ]
        }
      ],
      "source": [
        "import spacy\n",
        "nlp = spacy.load(\"en_core_web_sm\")\n",
        "\n",
        "text = \"I saw the man on the hill with a telescope\"\n",
        "doc = nlp(text)\n",
        "filtered_words = [token.text for token in doc if not token.is_stop]\n",
        "clean_text = ' '.join(filtered_words)\n",
        "print(\"Original Text:\", text)\n",
        "print(\"Text after Stopword Removal:\", clean_text)"
      ]
    },
    {
      "cell_type": "markdown",
      "id": "2797b419",
      "metadata": {
        "id": "2797b419"
      },
      "source": [
        "# Amharic stopwords\n",
        "If you want to use the stopwords for Amharic, use the one from our semantic models github repositor"
      ]
    },
    {
      "cell_type": "code",
      "execution_count": null,
      "id": "c0949fac",
      "metadata": {
        "id": "c0949fac",
        "outputId": "1ad77f14-6ed7-48b7-966a-47087f574a44"
      },
      "outputs": [
        {
          "name": "stdout",
          "output_type": "stream",
          "text": [
            "Requirement already satisfied: wget in /Users/yimam/anaconda3/lib/python3.11/site-packages (3.2)\r\n"
          ]
        }
      ],
      "source": [
        "!pip install wget"
      ]
    },
    {
      "cell_type": "code",
      "execution_count": null,
      "id": "e9badbd9",
      "metadata": {
        "id": "e9badbd9",
        "outputId": "78077aee-3fa2-47ca-b1df-732ecab9aede"
      },
      "outputs": [
        {
          "name": "stdout",
          "output_type": "stream",
          "text": [
            "100% [............................................................] 3423 / 3423"
          ]
        }
      ],
      "source": [
        "import wget\n",
        "am_stopwords = open(wget.download(\"https://raw.githubusercontent.com/uhh-lt/ethiopicmodels/master/am/normalization/amstopwords.txt\")).read().split(\"\\n\")"
      ]
    },
    {
      "cell_type": "code",
      "execution_count": null,
      "id": "1c3522ce",
      "metadata": {
        "id": "1c3522ce",
        "outputId": "0c56d2c3-853b-4666-e2cc-030fa513b572"
      },
      "outputs": [
        {
          "data": {
            "text/plain": [
              "['Ethiopia',\n",
              " 'is',\n",
              " 'it',\n",
              " 'me',\n",
              " 'news',\n",
              " 'the',\n",
              " 'this',\n",
              " 'to',\n",
              " 'via',\n",
              " 'you',\n",
              " 'አሉ',\n",
              " 'ሀገር ',\n",
              " 'ሁሉ',\n",
              " 'ሁሉም ',\n",
              " 'ሁሉንም',\n",
              " 'ሁል',\n",
              " 'ሁኔታ',\n",
              " 'ህዝብ ',\n",
              " 'ሆነ',\n",
              " 'ሆኑ',\n",
              " 'ሆኖም',\n",
              " 'ሆኖም',\n",
              " 'ሆይ ',\n",
              " 'ኋላ',\n",
              " 'ለማለት',\n",
              " 'ለምን',\n",
              " 'ለዘላለም',\n",
              " 'ለድርጊቶችዎ ',\n",
              " 'ላይ',\n",
              " 'ሌላ',\n",
              " 'ሌሎች',\n",
              " 'ልክ ',\n",
              " 'ልጅ ',\n",
              " 'መሆኑ',\n",
              " 'መሆን ',\n",
              " 'መልካም',\n",
              " 'መቸ',\n",
              " 'መቸም',\n",
              " 'መንግስት ',\n",
              " 'መካከል',\n",
              " 'መግለጹን',\n",
              " 'ማለት',\n",
              " 'ማነው ',\n",
              " 'ማን',\n",
              " 'ማንም',\n",
              " 'ማንኛውም',\n",
              " 'ማድረግ',\n",
              " 'ምነው',\n",
              " 'ምን',\n",
              " 'ምንም',\n",
              " 'ምንድን',\n",
              " 'ምክንያቱም',\n",
              " 'ምክንያት',\n",
              " 'ሰሞኑን',\n",
              " 'ሰአት',\n",
              " 'ሰው ',\n",
              " 'ሰዎች ',\n",
              " 'ሲሆን',\n",
              " 'ሲሉ',\n",
              " 'ሲል',\n",
              " 'ሲናገር',\n",
              " 'ሳይሆን',\n",
              " 'ሴት ',\n",
              " 'ስለ',\n",
              " 'ስለሆነ',\n",
              " 'ስም',\n",
              " 'ስራ ',\n",
              " 'ቀን',\n",
              " 'ቁጥር ',\n",
              " 'በኋላ',\n",
              " 'በለው',\n",
              " 'በላይ',\n",
              " 'በል',\n",
              " 'በሰላም ',\n",
              " 'በሰሞኑ',\n",
              " 'በርካታ',\n",
              " 'በቃ ',\n",
              " 'በተለይ',\n",
              " 'በተመለከተ',\n",
              " 'በተመሳሳይ',\n",
              " 'በታች',\n",
              " 'በአል',\n",
              " 'በኢትዮጵያ ',\n",
              " 'በኩል',\n",
              " 'በውስጥ',\n",
              " 'በዚህ',\n",
              " 'በይ',\n",
              " 'በጣም',\n",
              " 'በፊት',\n",
              " 'ቢሆን',\n",
              " 'ቢቢሲ',\n",
              " 'ቤተሰቦችዎ ',\n",
              " 'ቤት ',\n",
              " 'ብለህ',\n",
              " 'ብለዋል',\n",
              " 'ብላ',\n",
              " 'ብሎ',\n",
              " 'ብር ',\n",
              " 'ብቸኛው',\n",
              " 'ብቻ',\n",
              " 'ብቻውን',\n",
              " 'ብዙ',\n",
              " 'ብዛት',\n",
              " 'ቦታ',\n",
              " 'ተማሪዎች ',\n",
              " 'ተባለ',\n",
              " 'ተናግረዋል',\n",
              " 'ተከናውኗል',\n",
              " 'ተው',\n",
              " 'ተገለጸ',\n",
              " 'ተገልጿል',\n",
              " 'ተጠናቅቋል ',\n",
              " 'ተጨማሪ',\n",
              " 'ቲም',\n",
              " 'ታላቅ ',\n",
              " 'ታች',\n",
              " 'ታዲያ',\n",
              " 'ትልቅ',\n",
              " 'ትናንት',\n",
              " 'ትክክል',\n",
              " 'ችግር',\n",
              " 'ነህ ',\n",
              " 'ነሽ ',\n",
              " 'ነበረ',\n",
              " 'ነበረች',\n",
              " 'ነበሩ',\n",
              " 'ነበር',\n",
              " 'ነች',\n",
              " 'ነን ',\n",
              " 'ነኝ ',\n",
              " 'ነዋ',\n",
              " 'ነው',\n",
              " 'ነይ',\n",
              " 'ነገር',\n",
              " 'ነገሮች',\n",
              " 'ነገሮችን',\n",
              " 'ናት',\n",
              " 'ናቸው',\n",
              " 'አሁን',\n",
              " 'አለ',\n",
              " 'አላውቅም',\n",
              " 'አልነበረም',\n",
              " 'አመልክተዋል',\n",
              " 'አመሰግናለሁ',\n",
              " 'አሜን',\n",
              " 'አሳሰበ',\n",
              " 'አሳስበዋል',\n",
              " 'አስረድተዋል',\n",
              " 'አስታወቀ',\n",
              " 'አስታውሰዋል',\n",
              " 'አስታውቀዋል',\n",
              " 'አስገነዘቡ',\n",
              " 'አስገንዝበዋል',\n",
              " 'አስፈላጊ',\n",
              " 'አረ ',\n",
              " 'አበራራ',\n",
              " 'አብራርተዋል',\n",
              " 'አታውቅም',\n",
              " 'አቶ',\n",
              " 'አንተ',\n",
              " 'አንች ',\n",
              " 'አንድ',\n",
              " 'አንጻር',\n",
              " 'አዎ ',\n",
              " 'አይ',\n",
              " 'አይነት',\n",
              " 'አይደለም',\n",
              " 'አይደል ',\n",
              " 'ኢትዮጵያ',\n",
              " 'እሱ',\n",
              " 'እስቲ',\n",
              " 'እስከ',\n",
              " 'እስኪደርስ',\n",
              " 'እስካሁን',\n",
              " 'እሷ',\n",
              " 'እረ',\n",
              " 'እርስዎ ',\n",
              " 'እሽ',\n",
              " 'እባክህ',\n",
              " 'እባክሸ',\n",
              " 'እባክዎ',\n",
              " 'እና',\n",
              " 'እናመሰግናለን',\n",
              " 'እናም',\n",
              " 'እኔ',\n",
              " 'እኔም ',\n",
              " 'እንኳ',\n",
              " 'እንደ',\n",
              " 'እንደተናገሩት',\n",
              " 'እንደተገለጸው',\n",
              " 'እንደት',\n",
              " 'እንደአስረዱት',\n",
              " 'እንደገለጹት',\n",
              " 'እንደገና',\n",
              " 'እንዲሁም',\n",
              " 'እንዴ',\n",
              " 'እንድህ',\n",
              " 'እንጂ',\n",
              " 'እንግድህ ',\n",
              " 'እኛ',\n",
              " 'እኮ',\n",
              " 'እውነት ',\n",
              " 'እዚሁ',\n",
              " 'እዚህ',\n",
              " 'እዚያ',\n",
              " 'እያንዳንዱ',\n",
              " 'እያንዳንዳችው',\n",
              " 'እያንዳንዷ',\n",
              " 'እግር',\n",
              " 'ኧረ',\n",
              " 'ከ',\n",
              " 'ከሆነ',\n",
              " 'ከኋላ',\n",
              " 'ከላይ',\n",
              " 'ከመካከል',\n",
              " 'ከሰሞኑ',\n",
              " 'ከተማ ',\n",
              " 'ከታች',\n",
              " 'ከቶ',\n",
              " 'ከውስጥ',\n",
              " 'ከጋራ',\n",
              " 'ከፊት',\n",
              " 'ክልል',\n",
              " 'ክፍል',\n",
              " 'ወቅት',\n",
              " 'ወንድ ',\n",
              " 'ወዘተ',\n",
              " 'ወይ',\n",
              " 'ወይም',\n",
              " 'ወይኔ ',\n",
              " 'ወደ',\n",
              " 'ወደፊት',\n",
              " 'ዋና',\n",
              " 'ውስጥ',\n",
              " 'ውይ ',\n",
              " 'ውጪ',\n",
              " 'ዛሬ',\n",
              " 'ዜና ',\n",
              " 'ዝም',\n",
              " 'የኋላ',\n",
              " 'የለም',\n",
              " 'የለውም',\n",
              " 'የሚገኙ',\n",
              " 'የሚገኝ',\n",
              " 'የሰሞኑ',\n",
              " 'የሰው ',\n",
              " 'የተለያየ',\n",
              " 'የተለያዩ',\n",
              " 'የታች',\n",
              " 'የት',\n",
              " 'የኔ ',\n",
              " 'የኢትዮጵያ',\n",
              " 'የወደፊቱ',\n",
              " 'የውስጥ',\n",
              " 'የዘላለም',\n",
              " 'የገለጹት',\n",
              " 'ያለ',\n",
              " 'ያለው',\n",
              " 'ያሉ',\n",
              " 'ያሳዝናል ',\n",
              " 'ያፈሳሉ',\n",
              " 'ይሁን ',\n",
              " 'ይሄ',\n",
              " 'ይህ',\n",
              " 'ይህን',\n",
              " 'ይሆናል ',\n",
              " 'ይሆን ',\n",
              " 'ይሞታል',\n",
              " 'ይሰማቸዋል',\n",
              " 'ይታወሳል',\n",
              " 'ይችላል',\n",
              " 'ይቿ',\n",
              " 'ይናገራሉ',\n",
              " 'ይገልጻል',\n",
              " 'ይገባል',\n",
              " 'ደህና',\n",
              " 'ደሞ ',\n",
              " 'ደስ',\n",
              " 'ደግሞ',\n",
              " 'ድረስ',\n",
              " 'ድርጊቶች ',\n",
              " 'ድጋፍ',\n",
              " 'ዶክተር',\n",
              " 'ገልጸዋል',\n",
              " 'ገልጿል',\n",
              " 'ገና',\n",
              " 'ጉዳይ ',\n",
              " 'ጉድ',\n",
              " 'ጊዜ',\n",
              " 'ጋራ',\n",
              " 'ጋር',\n",
              " 'ግን',\n",
              " 'ግዜ',\n",
              " 'ጥሩ',\n",
              " 'ጥቂት',\n",
              " 'ፈጣሪ',\n",
              " 'ፊት',\n",
              " '፣',\n",
              " '፤',\n",
              " 'ቤት',\n",
              " 'በ',\n",
              " 'ም',\n",
              " '፡',\n",
              " 'ዓ',\n",
              " 'የ',\n",
              " 'ሆኖ',\n",
              " 'አሉ',\n",
              " 'አንዱ']"
            ]
          },
          "execution_count": 26,
          "metadata": {},
          "output_type": "execute_result"
        }
      ],
      "source": [
        "am_stopwords"
      ]
    },
    {
      "cell_type": "markdown",
      "id": "78b53811",
      "metadata": {
        "id": "78b53811"
      },
      "source": [
        "# <span style=\"color:red\">Excercise</span>\n",
        "1. What is the purpose of removing stopwords in natural language processing (NLP)?\n",
        "2. Under what circumstances should stopwords be retained?"
      ]
    },
    {
      "cell_type": "markdown",
      "id": "89132e67",
      "metadata": {
        "id": "89132e67"
      },
      "source": [
        "# Remove punctuations"
      ]
    },
    {
      "cell_type": "code",
      "execution_count": null,
      "id": "708dfb3c",
      "metadata": {
        "id": "708dfb3c",
        "outputId": "77b89b72-4512-4995-f946-dba09858f2af"
      },
      "outputs": [
        {
          "name": "stdout",
          "output_type": "stream",
          "text": [
            "Original ==> I saw a man, he was on the hill!; and he is with a telescope!\n",
            "Punctuation removed == I saw a man, he was on the hill!; and he is with a telescope!\n"
          ]
        }
      ],
      "source": [
        "# Simple removal\n",
        "import string\n",
        "text = \"I saw a man, he was on the hill!; and he is with a telescope!\"\n",
        "print(\"Original ==>\", text)\n",
        "print(\"Punctuation removed ==\", text.translate(string.punctuation))"
      ]
    },
    {
      "cell_type": "code",
      "execution_count": null,
      "id": "87de58aa",
      "metadata": {
        "id": "87de58aa"
      },
      "outputs": [],
      "source": []
    },
    {
      "cell_type": "code",
      "execution_count": null,
      "id": "4bfa7f28",
      "metadata": {
        "id": "4bfa7f28"
      },
      "outputs": [],
      "source": []
    },
    {
      "cell_type": "markdown",
      "id": "bee76dc4",
      "metadata": {
        "id": "bee76dc4"
      },
      "source": [
        "---\n",
        "---\n",
        "Text classification\n",
        "\n",
        "---\n",
        "---"
      ]
    },
    {
      "cell_type": "markdown",
      "id": "5354d30f",
      "metadata": {
        "id": "5354d30f"
      },
      "source": [
        "<span style=\"color:blue\">Text classification</span> is a key task in supervised machine learning (ML), involving the categorization of documents into predefined tags. This process facilitates the automated and cost-effective structuring and analysis of text. As a fundamental component of Natural Language Processing (NLP), it has wide applications including sentiment analysis, spam detection, topic labeling, and intent detection."
      ]
    },
    {
      "cell_type": "markdown",
      "id": "5149393c",
      "metadata": {
        "id": "5149393c"
      },
      "source": [
        "## Text classification steps\n",
        "1. Import Libraries\n",
        "2. Load Dataset & Conduct Exploratory Data Analysis\n",
        "3. Preprocess Text\n",
        "4. Vectorize Text\n",
        "5. Execute Machine Learning Algorithms"
      ]
    },
    {
      "cell_type": "markdown",
      "id": "1fd7ec64",
      "metadata": {
        "id": "1fd7ec64"
      },
      "source": [
        "In this exercise, we use existing libraries for text classification. In general, it is customery to load all the libraries at the top of codes (notebooks)"
      ]
    },
    {
      "cell_type": "code",
      "execution_count": null,
      "id": "4ba1150a",
      "metadata": {
        "id": "4ba1150a",
        "outputId": "8b18ea9b-700a-4f87-f23c-c7e67fcb7dc5"
      },
      "outputs": [
        {
          "name": "stderr",
          "output_type": "stream",
          "text": [
            "[nltk_data] Downloading package punkt to /Users/yimam/nltk_data...\n",
            "[nltk_data]   Package punkt is already up-to-date!\n",
            "[nltk_data] Downloading package averaged_perceptron_tagger to\n",
            "[nltk_data]     /Users/yimam/nltk_data...\n",
            "[nltk_data]   Package averaged_perceptron_tagger is already up-to-\n",
            "[nltk_data]       date!\n",
            "[nltk_data] Downloading package wordnet to /Users/yimam/nltk_data...\n",
            "[nltk_data]   Package wordnet is already up-to-date!\n"
          ]
        }
      ],
      "source": [
        "import pandas as pd\n",
        "import numpy as np\n",
        "from matplotlib import pyplot as plt\n",
        "#for text pre-processing\n",
        "import re, string\n",
        "import nltk\n",
        "from nltk.tokenize import word_tokenize\n",
        "from nltk.corpus import stopwords\n",
        "from nltk.tokenize import word_tokenize\n",
        "from nltk.stem import SnowballStemmer\n",
        "from nltk.corpus import wordnet\n",
        "from nltk.stem import WordNetLemmatizer\n",
        "import seaborn as sns\n",
        "nltk.download('punkt')\n",
        "nltk.download('averaged_perceptron_tagger')\n",
        "nltk.download('wordnet')\n",
        "#for model-building\n",
        "from sklearn.model_selection import train_test_split\n",
        "from sklearn.linear_model import LogisticRegression\n",
        "from sklearn.naive_bayes import MultinomialNB\n",
        "from sklearn.metrics import classification_report, f1_score, accuracy_score, confusion_matrix\n",
        "from sklearn.metrics import roc_curve, auc, roc_auc_score\n",
        "# bag of words\n",
        "from sklearn.feature_extraction.text import TfidfVectorizer\n",
        "from sklearn.feature_extraction.text import CountVectorizer\n",
        "#for word embedding\n",
        "import gensim\n",
        "from gensim.models import Word2Vec"
      ]
    },
    {
      "cell_type": "markdown",
      "id": "d85d5976",
      "metadata": {
        "id": "d85d5976"
      },
      "source": [
        "# Loading the dataset and explanatory analysis (EDA)"
      ]
    },
    {
      "cell_type": "markdown",
      "id": "ae2303bc",
      "metadata": {
        "id": "ae2303bc"
      },
      "source": [
        "We will use the dataset from this Kaggle repository: [Natural Language Processing with Disaster Tweets](https://www.kaggle.com/competitions/nlp-getting-started/data)"
      ]
    },
    {
      "cell_type": "markdown",
      "id": "adf8b459",
      "metadata": {
        "id": "adf8b459"
      },
      "source": [
        "## What should I expect the data format to be?\n",
        "\n",
        "Each sample in the train and test set has the following information:\n",
        "   \n",
        "- The text of a tweet\n",
        "- A keyword from that tweet (although this may be blank!)\n",
        "- The location the tweet was sent from (may also be blank)\n",
        "\n",
        "## What to predict?\n",
        "You are predicting whether a given tweet is about a real disaster or not. If so, predict a **1**. If not, predict a **0**."
      ]
    },
    {
      "cell_type": "code",
      "execution_count": null,
      "id": "c31bf0c1",
      "metadata": {
        "id": "c31bf0c1",
        "outputId": "6d44c0c1-fde3-425d-b344-251bad360d77"
      },
      "outputs": [
        {
          "name": "stdout",
          "output_type": "stream",
          "text": [
            "100% [........................................................] 430580 / 430580"
          ]
        },
        {
          "data": {
            "text/plain": [
              "'test.csv'"
            ]
          },
          "execution_count": 39,
          "metadata": {},
          "output_type": "execute_result"
        }
      ],
      "source": [
        "# Get the data from here if you did not join Kaggle\n",
        "https://github.com/bianchi-john/Natural-Language-Processing-with-Disaster-Tweets/tree/main#\n",
        "\n",
        "wget.download(\"https://raw.githubusercontent.com/bianchi-john/Natural-Language-Processing-with-Disaster-Tweets/main/train.csv\")\n",
        "wget.download(\"https://raw.githubusercontent.com/bianchi-john/Natural-Language-Processing-with-Disaster-Tweets/main/test.csv\")"
      ]
    },
    {
      "cell_type": "markdown",
      "id": "372422c5",
      "metadata": {
        "id": "372422c5"
      },
      "source": [
        "## Load the datasets using pandas"
      ]
    },
    {
      "cell_type": "code",
      "execution_count": null,
      "id": "1703db4f",
      "metadata": {
        "id": "1703db4f"
      },
      "outputs": [],
      "source": [
        "df_train= pd.read_csv('train.csv')\n",
        "df_test=pd.read_csv('test.csv')"
      ]
    },
    {
      "cell_type": "code",
      "execution_count": null,
      "id": "ad9b5a2d",
      "metadata": {
        "id": "ad9b5a2d",
        "outputId": "3ea82016-6536-403f-a70b-6c0aa71911dc"
      },
      "outputs": [
        {
          "data": {
            "text/plain": [
              "(7613, 3263)"
            ]
          },
          "execution_count": 41,
          "metadata": {},
          "output_type": "execute_result"
        }
      ],
      "source": [
        "# Lets check the length of tarin and test sets\n",
        "len(df_train), len(df_test)"
      ]
    },
    {
      "cell_type": "code",
      "execution_count": null,
      "id": "e1a268b2",
      "metadata": {
        "id": "e1a268b2",
        "outputId": "fa68d73c-57d9-44a8-eca7-82ac5bbec8fa"
      },
      "outputs": [
        {
          "data": {
            "text/html": [
              "<div>\n",
              "<style scoped>\n",
              "    .dataframe tbody tr th:only-of-type {\n",
              "        vertical-align: middle;\n",
              "    }\n",
              "\n",
              "    .dataframe tbody tr th {\n",
              "        vertical-align: top;\n",
              "    }\n",
              "\n",
              "    .dataframe thead th {\n",
              "        text-align: right;\n",
              "    }\n",
              "</style>\n",
              "<table border=\"1\" class=\"dataframe\">\n",
              "  <thead>\n",
              "    <tr style=\"text-align: right;\">\n",
              "      <th></th>\n",
              "      <th>id</th>\n",
              "      <th>keyword</th>\n",
              "      <th>location</th>\n",
              "      <th>text</th>\n",
              "      <th>target</th>\n",
              "    </tr>\n",
              "  </thead>\n",
              "  <tbody>\n",
              "    <tr>\n",
              "      <th>0</th>\n",
              "      <td>1</td>\n",
              "      <td>NaN</td>\n",
              "      <td>NaN</td>\n",
              "      <td>Our Deeds are the Reason of this #earthquake M...</td>\n",
              "      <td>1</td>\n",
              "    </tr>\n",
              "    <tr>\n",
              "      <th>1</th>\n",
              "      <td>4</td>\n",
              "      <td>NaN</td>\n",
              "      <td>NaN</td>\n",
              "      <td>Forest fire near La Ronge Sask. Canada</td>\n",
              "      <td>1</td>\n",
              "    </tr>\n",
              "    <tr>\n",
              "      <th>2</th>\n",
              "      <td>5</td>\n",
              "      <td>NaN</td>\n",
              "      <td>NaN</td>\n",
              "      <td>All residents asked to 'shelter in place' are ...</td>\n",
              "      <td>1</td>\n",
              "    </tr>\n",
              "    <tr>\n",
              "      <th>3</th>\n",
              "      <td>6</td>\n",
              "      <td>NaN</td>\n",
              "      <td>NaN</td>\n",
              "      <td>13,000 people receive #wildfires evacuation or...</td>\n",
              "      <td>1</td>\n",
              "    </tr>\n",
              "    <tr>\n",
              "      <th>4</th>\n",
              "      <td>7</td>\n",
              "      <td>NaN</td>\n",
              "      <td>NaN</td>\n",
              "      <td>Just got sent this photo from Ruby #Alaska as ...</td>\n",
              "      <td>1</td>\n",
              "    </tr>\n",
              "    <tr>\n",
              "      <th>5</th>\n",
              "      <td>8</td>\n",
              "      <td>NaN</td>\n",
              "      <td>NaN</td>\n",
              "      <td>#RockyFire Update =&gt; California Hwy. 20 closed...</td>\n",
              "      <td>1</td>\n",
              "    </tr>\n",
              "    <tr>\n",
              "      <th>6</th>\n",
              "      <td>10</td>\n",
              "      <td>NaN</td>\n",
              "      <td>NaN</td>\n",
              "      <td>#flood #disaster Heavy rain causes flash flood...</td>\n",
              "      <td>1</td>\n",
              "    </tr>\n",
              "    <tr>\n",
              "      <th>7</th>\n",
              "      <td>13</td>\n",
              "      <td>NaN</td>\n",
              "      <td>NaN</td>\n",
              "      <td>I'm on top of the hill and I can see a fire in...</td>\n",
              "      <td>1</td>\n",
              "    </tr>\n",
              "    <tr>\n",
              "      <th>8</th>\n",
              "      <td>14</td>\n",
              "      <td>NaN</td>\n",
              "      <td>NaN</td>\n",
              "      <td>There's an emergency evacuation happening now ...</td>\n",
              "      <td>1</td>\n",
              "    </tr>\n",
              "    <tr>\n",
              "      <th>9</th>\n",
              "      <td>15</td>\n",
              "      <td>NaN</td>\n",
              "      <td>NaN</td>\n",
              "      <td>I'm afraid that the tornado is coming to our a...</td>\n",
              "      <td>1</td>\n",
              "    </tr>\n",
              "    <tr>\n",
              "      <th>10</th>\n",
              "      <td>16</td>\n",
              "      <td>NaN</td>\n",
              "      <td>NaN</td>\n",
              "      <td>Three people died from the heat wave so far</td>\n",
              "      <td>1</td>\n",
              "    </tr>\n",
              "    <tr>\n",
              "      <th>11</th>\n",
              "      <td>17</td>\n",
              "      <td>NaN</td>\n",
              "      <td>NaN</td>\n",
              "      <td>Haha South Tampa is getting flooded hah- WAIT ...</td>\n",
              "      <td>1</td>\n",
              "    </tr>\n",
              "    <tr>\n",
              "      <th>12</th>\n",
              "      <td>18</td>\n",
              "      <td>NaN</td>\n",
              "      <td>NaN</td>\n",
              "      <td>#raining #flooding #Florida #TampaBay #Tampa 1...</td>\n",
              "      <td>1</td>\n",
              "    </tr>\n",
              "    <tr>\n",
              "      <th>13</th>\n",
              "      <td>19</td>\n",
              "      <td>NaN</td>\n",
              "      <td>NaN</td>\n",
              "      <td>#Flood in Bago Myanmar #We arrived Bago</td>\n",
              "      <td>1</td>\n",
              "    </tr>\n",
              "    <tr>\n",
              "      <th>14</th>\n",
              "      <td>20</td>\n",
              "      <td>NaN</td>\n",
              "      <td>NaN</td>\n",
              "      <td>Damage to school bus on 80 in multi car crash ...</td>\n",
              "      <td>1</td>\n",
              "    </tr>\n",
              "  </tbody>\n",
              "</table>\n",
              "</div>"
            ],
            "text/plain": [
              "    id keyword location                                               text  \\\n",
              "0    1     NaN      NaN  Our Deeds are the Reason of this #earthquake M...   \n",
              "1    4     NaN      NaN             Forest fire near La Ronge Sask. Canada   \n",
              "2    5     NaN      NaN  All residents asked to 'shelter in place' are ...   \n",
              "3    6     NaN      NaN  13,000 people receive #wildfires evacuation or...   \n",
              "4    7     NaN      NaN  Just got sent this photo from Ruby #Alaska as ...   \n",
              "5    8     NaN      NaN  #RockyFire Update => California Hwy. 20 closed...   \n",
              "6   10     NaN      NaN  #flood #disaster Heavy rain causes flash flood...   \n",
              "7   13     NaN      NaN  I'm on top of the hill and I can see a fire in...   \n",
              "8   14     NaN      NaN  There's an emergency evacuation happening now ...   \n",
              "9   15     NaN      NaN  I'm afraid that the tornado is coming to our a...   \n",
              "10  16     NaN      NaN        Three people died from the heat wave so far   \n",
              "11  17     NaN      NaN  Haha South Tampa is getting flooded hah- WAIT ...   \n",
              "12  18     NaN      NaN  #raining #flooding #Florida #TampaBay #Tampa 1...   \n",
              "13  19     NaN      NaN            #Flood in Bago Myanmar #We arrived Bago   \n",
              "14  20     NaN      NaN  Damage to school bus on 80 in multi car crash ...   \n",
              "\n",
              "    target  \n",
              "0        1  \n",
              "1        1  \n",
              "2        1  \n",
              "3        1  \n",
              "4        1  \n",
              "5        1  \n",
              "6        1  \n",
              "7        1  \n",
              "8        1  \n",
              "9        1  \n",
              "10       1  \n",
              "11       1  \n",
              "12       1  \n",
              "13       1  \n",
              "14       1  "
            ]
          },
          "execution_count": 42,
          "metadata": {},
          "output_type": "execute_result"
        }
      ],
      "source": [
        "df_train.head(15)"
      ]
    },
    {
      "cell_type": "markdown",
      "id": "af3bb4dc",
      "metadata": {
        "id": "af3bb4dc"
      },
      "source": [
        "# Basic EDA -- more on the Data Sceince course"
      ]
    },
    {
      "cell_type": "markdown",
      "id": "b80a418b",
      "metadata": {
        "id": "b80a418b"
      },
      "source": [
        "## Class distribution\n",
        "Understanding the class distribution of the dataset, specifically the distribution of target labels, is crucial for building NLP applications. This knowledge reveals whether the data is balanced or imbalanced. If the dataset is imbalanced, finding a solution to address this issue becomes necessary."
      ]
    },
    {
      "cell_type": "code",
      "execution_count": null,
      "id": "066c645b",
      "metadata": {
        "id": "066c645b",
        "outputId": "78be3c07-7b69-4393-c544-6e4ea0e5d6a8"
      },
      "outputs": [
        {
          "data": {
            "text/plain": [
              "<Axes: xlabel='target', ylabel='count'>"
            ]
          },
          "execution_count": 52,
          "metadata": {},
          "output_type": "execute_result"
        },
        {
          "data": {
            "image/png": "[encoded data removed]",
            "text/plain": [
              "<Figure size 640x480 with 1 Axes>"
            ]
          },
          "metadata": {},
          "output_type": "display_data"
        }
      ],
      "source": [
        "sns.countplot(data=df_train, x='target', order=df_train.target.value_counts().index)"
      ]
    },
    {
      "cell_type": "markdown",
      "id": "c99ef2fe",
      "metadata": {
        "id": "c99ef2fe"
      },
      "source": []
    },
    {
      "cell_type": "code",
      "execution_count": null,
      "id": "9b1d8879",
      "metadata": {
        "id": "9b1d8879",
        "outputId": "5ad183bf-c3ab-458d-ecfd-b1bb87e76104"
      },
      "outputs": [
        {
          "data": {
            "text/plain": [
              "id             0\n",
              "keyword       61\n",
              "location    2533\n",
              "text           0\n",
              "target         0\n",
              "dtype: int64"
            ]
          },
          "execution_count": 53,
          "metadata": {},
          "output_type": "execute_result"
        }
      ],
      "source": [
        "df_train.isna().sum()"
      ]
    },
    {
      "cell_type": "markdown",
      "id": "556a0a6c",
      "metadata": {
        "id": "556a0a6c"
      },
      "source": [
        "## Count the number of words\n",
        "Based on the domain, you like to have a feeling of the tweet length. It helps to plan the kind of model to build"
      ]
    },
    {
      "cell_type": "code",
      "execution_count": null,
      "id": "f44163d1",
      "metadata": {
        "id": "f44163d1",
        "outputId": "c21e0726-5981-4f3c-f4b5-a6de1ea75b44"
      },
      "outputs": [
        {
          "data": {
            "text/html": [
              "<div>\n",
              "<style scoped>\n",
              "    .dataframe tbody tr th:only-of-type {\n",
              "        vertical-align: middle;\n",
              "    }\n",
              "\n",
              "    .dataframe tbody tr th {\n",
              "        vertical-align: top;\n",
              "    }\n",
              "\n",
              "    .dataframe thead th {\n",
              "        text-align: right;\n",
              "    }\n",
              "</style>\n",
              "<table border=\"1\" class=\"dataframe\">\n",
              "  <thead>\n",
              "    <tr style=\"text-align: right;\">\n",
              "      <th></th>\n",
              "      <th>id</th>\n",
              "      <th>keyword</th>\n",
              "      <th>location</th>\n",
              "      <th>text</th>\n",
              "      <th>target</th>\n",
              "      <th>word_count</th>\n",
              "    </tr>\n",
              "  </thead>\n",
              "  <tbody>\n",
              "    <tr>\n",
              "      <th>0</th>\n",
              "      <td>1</td>\n",
              "      <td>NaN</td>\n",
              "      <td>NaN</td>\n",
              "      <td>Our Deeds are the Reason of this #earthquake M...</td>\n",
              "      <td>1</td>\n",
              "      <td>13</td>\n",
              "    </tr>\n",
              "    <tr>\n",
              "      <th>1</th>\n",
              "      <td>4</td>\n",
              "      <td>NaN</td>\n",
              "      <td>NaN</td>\n",
              "      <td>Forest fire near La Ronge Sask. Canada</td>\n",
              "      <td>1</td>\n",
              "      <td>7</td>\n",
              "    </tr>\n",
              "    <tr>\n",
              "      <th>2</th>\n",
              "      <td>5</td>\n",
              "      <td>NaN</td>\n",
              "      <td>NaN</td>\n",
              "      <td>All residents asked to 'shelter in place' are ...</td>\n",
              "      <td>1</td>\n",
              "      <td>22</td>\n",
              "    </tr>\n",
              "    <tr>\n",
              "      <th>3</th>\n",
              "      <td>6</td>\n",
              "      <td>NaN</td>\n",
              "      <td>NaN</td>\n",
              "      <td>13,000 people receive #wildfires evacuation or...</td>\n",
              "      <td>1</td>\n",
              "      <td>8</td>\n",
              "    </tr>\n",
              "    <tr>\n",
              "      <th>4</th>\n",
              "      <td>7</td>\n",
              "      <td>NaN</td>\n",
              "      <td>NaN</td>\n",
              "      <td>Just got sent this photo from Ruby #Alaska as ...</td>\n",
              "      <td>1</td>\n",
              "      <td>16</td>\n",
              "    </tr>\n",
              "    <tr>\n",
              "      <th>...</th>\n",
              "      <td>...</td>\n",
              "      <td>...</td>\n",
              "      <td>...</td>\n",
              "      <td>...</td>\n",
              "      <td>...</td>\n",
              "      <td>...</td>\n",
              "    </tr>\n",
              "    <tr>\n",
              "      <th>7608</th>\n",
              "      <td>10869</td>\n",
              "      <td>NaN</td>\n",
              "      <td>NaN</td>\n",
              "      <td>Two giant cranes holding a bridge collapse int...</td>\n",
              "      <td>1</td>\n",
              "      <td>11</td>\n",
              "    </tr>\n",
              "    <tr>\n",
              "      <th>7609</th>\n",
              "      <td>10870</td>\n",
              "      <td>NaN</td>\n",
              "      <td>NaN</td>\n",
              "      <td>@aria_ahrary @TheTawniest The out of control w...</td>\n",
              "      <td>1</td>\n",
              "      <td>20</td>\n",
              "    </tr>\n",
              "    <tr>\n",
              "      <th>7610</th>\n",
              "      <td>10871</td>\n",
              "      <td>NaN</td>\n",
              "      <td>NaN</td>\n",
              "      <td>M1.94 [01:04 UTC]?5km S of Volcano Hawaii. htt...</td>\n",
              "      <td>1</td>\n",
              "      <td>8</td>\n",
              "    </tr>\n",
              "    <tr>\n",
              "      <th>7611</th>\n",
              "      <td>10872</td>\n",
              "      <td>NaN</td>\n",
              "      <td>NaN</td>\n",
              "      <td>Police investigating after an e-bike collided ...</td>\n",
              "      <td>1</td>\n",
              "      <td>19</td>\n",
              "    </tr>\n",
              "    <tr>\n",
              "      <th>7612</th>\n",
              "      <td>10873</td>\n",
              "      <td>NaN</td>\n",
              "      <td>NaN</td>\n",
              "      <td>The Latest: More Homes Razed by Northern Calif...</td>\n",
              "      <td>1</td>\n",
              "      <td>13</td>\n",
              "    </tr>\n",
              "  </tbody>\n",
              "</table>\n",
              "<p>7613 rows × 6 columns</p>\n",
              "</div>"
            ],
            "text/plain": [
              "         id keyword location  \\\n",
              "0         1     NaN      NaN   \n",
              "1         4     NaN      NaN   \n",
              "2         5     NaN      NaN   \n",
              "3         6     NaN      NaN   \n",
              "4         7     NaN      NaN   \n",
              "...     ...     ...      ...   \n",
              "7608  10869     NaN      NaN   \n",
              "7609  10870     NaN      NaN   \n",
              "7610  10871     NaN      NaN   \n",
              "7611  10872     NaN      NaN   \n",
              "7612  10873     NaN      NaN   \n",
              "\n",
              "                                                   text  target  word_count  \n",
              "0     Our Deeds are the Reason of this #earthquake M...       1          13  \n",
              "1                Forest fire near La Ronge Sask. Canada       1           7  \n",
              "2     All residents asked to 'shelter in place' are ...       1          22  \n",
              "3     13,000 people receive #wildfires evacuation or...       1           8  \n",
              "4     Just got sent this photo from Ruby #Alaska as ...       1          16  \n",
              "...                                                 ...     ...         ...  \n",
              "7608  Two giant cranes holding a bridge collapse int...       1          11  \n",
              "7609  @aria_ahrary @TheTawniest The out of control w...       1          20  \n",
              "7610  M1.94 [01:04 UTC]?5km S of Volcano Hawaii. htt...       1           8  \n",
              "7611  Police investigating after an e-bike collided ...       1          19  \n",
              "7612  The Latest: More Homes Razed by Northern Calif...       1          13  \n",
              "\n",
              "[7613 rows x 6 columns]"
            ]
          },
          "execution_count": 56,
          "metadata": {},
          "output_type": "execute_result"
        }
      ],
      "source": [
        "# add a word count column\n",
        "df_train['word_count'] = df_train['text'].apply(lambda x: len(str(x).split()))\n",
        "df_train"
      ]
    },
    {
      "cell_type": "code",
      "execution_count": null,
      "id": "10ab1e3a",
      "metadata": {
        "id": "10ab1e3a",
        "outputId": "b9d5af6c-4a8a-450c-ae12-105e83fe7ad5"
      },
      "outputs": [
        {
          "name": "stdout",
          "output_type": "stream",
          "text": [
            "Disaster tweets ==> 15.167532864567411\n",
            "Non-Disaster tweets ==> 14.704744357438969\n"
          ]
        }
      ],
      "source": [
        "print(\"Disaster tweets ==>\", df_train[df_train['target']==1]['word_count'].mean()) #Disaster tweets\n",
        "print(\"Non-Disaster tweets ==>\", df_train[df_train['target']==0]['word_count'].mean()) #Non-Disaster tweets"
      ]
    },
    {
      "cell_type": "markdown",
      "id": "88b070ac",
      "metadata": {
        "id": "88b070ac"
      },
      "source": [
        "## Plotting word count"
      ]
    },
    {
      "cell_type": "code",
      "execution_count": null,
      "id": "5fe771a0",
      "metadata": {
        "id": "5fe771a0",
        "outputId": "41df33ad-67a0-4263-fe6d-cc23a6d7741e"
      },
      "outputs": [
        {
          "data": {
            "image/png": "[encoded data removed]",
            "text/plain": [
              "<Figure size 1000x400 with 2 Axes>"
            ]
          },
          "metadata": {},
          "output_type": "display_data"
        }
      ],
      "source": [
        "# PLOTTING WORD-COUNT\n",
        "# a single figure with 2 subplots, in one row and two column, each size 10 by 4\n",
        "fig,(ax1,ax2)=plt.subplots(1,2,figsize=(10,4))\n",
        "train_words=df_train[df_train['target']==1]['word_count']\n",
        "ax1.hist(train_words,color='red')\n",
        "ax1.set_title('Disaster tweets')\n",
        "\n",
        "train_words=df_train[df_train['target']==0]['word_count']\n",
        "ax2.hist(train_words,color='green')\n",
        "ax2.set_title('Non-disaster tweets')\n",
        "\n",
        "fig.suptitle('Words per tweet')\n",
        "plt.show()"
      ]
    },
    {
      "cell_type": "markdown",
      "id": "5a2e372a",
      "metadata": {
        "id": "5a2e372a"
      },
      "source": [
        "# Number of in a tweet"
      ]
    },
    {
      "cell_type": "code",
      "execution_count": null,
      "id": "98374499",
      "metadata": {
        "id": "98374499",
        "outputId": "34ac191f-e500-40d0-97ae-d20425d3a405"
      },
      "outputs": [
        {
          "name": "stdout",
          "output_type": "stream",
          "text": [
            "Disaster average character length==> 108.11342097217977\n",
            "Non-Disaster average character length ==> 95.70681713496084\n"
          ]
        }
      ],
      "source": [
        "# CHARACTER-COUNT\n",
        "df_train['char_count'] = df_train['text'].apply(lambda x: len(str(x)))\n",
        "print(\"Disaster average character length==>\", df_train[df_train['target']==1]['char_count'].mean())\n",
        "print(\"Non-Disaster average character length ==>\", df_train[df_train['target']==0]['char_count'].mean())"
      ]
    },
    {
      "cell_type": "markdown",
      "id": "8a256faf",
      "metadata": {
        "id": "8a256faf"
      },
      "source": [
        "## Text cleaning\n",
        "1. Remove punctuations, special characters, URLs, and hashtags.\n",
        "2. Eliminate leading, trailing, and excessive white spaces or tabs.\n",
        "3. Correct typos and slang, and expand abbreviations to their full forms.\n"
      ]
    },
    {
      "cell_type": "code",
      "execution_count": null,
      "id": "6aa5b75f",
      "metadata": {
        "id": "6aa5b75f"
      },
      "outputs": [],
      "source": [
        "#convert to lowercase, strip and remove punctuations\n",
        "def preprocess(text):\n",
        "    text = text.lower()\n",
        "    text=text.strip()\n",
        "    text=re.compile('<.*?>').sub('', text)\n",
        "    text = re.compile('[%s]' % re.escape(string.punctuation)).sub(' ', text)\n",
        "    text = re.sub('\\s+', ' ', text)\n",
        "    text = re.sub(r'\\[[0-9]*\\]',' ',text)\n",
        "    text=re.sub(r'[^\\w\\s]', '', str(text).lower().strip())\n",
        "    text = re.sub(r'\\d',' ',text)\n",
        "    text = re.sub(r'\\s+',' ',text)\n",
        "    return text"
      ]
    },
    {
      "cell_type": "code",
      "execution_count": null,
      "id": "f0d12e66",
      "metadata": {
        "id": "f0d12e66"
      },
      "outputs": [],
      "source": [
        "# STOPWORD REMOVAL\n",
        "def stopword(string):\n",
        "    words= [i for i in string.split() if i not in stopwords.words('english')]\n",
        "    return ' '.join(words)"
      ]
    },
    {
      "cell_type": "code",
      "execution_count": null,
      "id": "84ee61ae",
      "metadata": {
        "id": "84ee61ae"
      },
      "outputs": [],
      "source": [
        "#LEMMATIZATION\n",
        "# Initialize the lemmatizer\n",
        "wl = WordNetLemmatizer()"
      ]
    },
    {
      "cell_type": "code",
      "execution_count": null,
      "id": "f88ebd94",
      "metadata": {
        "id": "f88ebd94"
      },
      "outputs": [],
      "source": [
        "# This is a helper function to map NTLK position tags\n",
        "def get_wordnet_pos(tag):\n",
        "    if tag.startswith('J'):\n",
        "        return wordnet.ADJ\n",
        "    elif tag.startswith('V'):\n",
        "        return wordnet.VERB\n",
        "    elif tag.startswith('N'):\n",
        "        return wordnet.NOUN\n",
        "    elif tag.startswith('R'):\n",
        "        return wordnet.ADV\n",
        "    else:\n",
        "        return wordnet.NOUN"
      ]
    },
    {
      "cell_type": "code",
      "execution_count": null,
      "id": "415d85bc",
      "metadata": {
        "id": "415d85bc"
      },
      "outputs": [],
      "source": [
        "# Tokenize the sentence\n",
        "def lemmatizer(string):\n",
        "    word_pos_tags = nltk.pos_tag(word_tokenize(string)) # Get position tags\n",
        "    words=[wl.lemmatize(tag[0], get_wordnet_pos(tag[1])) for idx, tag in enumerate(word_pos_tags)] # Map the position tag and lemmatize the word/token\n",
        "    return \" \".join(words)"
      ]
    },
    {
      "cell_type": "code",
      "execution_count": null,
      "id": "66295c81",
      "metadata": {
        "id": "66295c81",
        "outputId": "641a2209-a79d-4b9a-e48a-87c1cb7b377f"
      },
      "outputs": [
        {
          "data": {
            "text/html": [
              "<div>\n",
              "<style scoped>\n",
              "    .dataframe tbody tr th:only-of-type {\n",
              "        vertical-align: middle;\n",
              "    }\n",
              "\n",
              "    .dataframe tbody tr th {\n",
              "        vertical-align: top;\n",
              "    }\n",
              "\n",
              "    .dataframe thead th {\n",
              "        text-align: right;\n",
              "    }\n",
              "</style>\n",
              "<table border=\"1\" class=\"dataframe\">\n",
              "  <thead>\n",
              "    <tr style=\"text-align: right;\">\n",
              "      <th></th>\n",
              "      <th>id</th>\n",
              "      <th>keyword</th>\n",
              "      <th>location</th>\n",
              "      <th>text</th>\n",
              "      <th>target</th>\n",
              "      <th>word_count</th>\n",
              "      <th>char_count</th>\n",
              "      <th>clean_text</th>\n",
              "    </tr>\n",
              "  </thead>\n",
              "  <tbody>\n",
              "    <tr>\n",
              "      <th>0</th>\n",
              "      <td>1</td>\n",
              "      <td>NaN</td>\n",
              "      <td>NaN</td>\n",
              "      <td>Our Deeds are the Reason of this #earthquake M...</td>\n",
              "      <td>1</td>\n",
              "      <td>13</td>\n",
              "      <td>69</td>\n",
              "      <td>deed reason earthquake may allah forgive u</td>\n",
              "    </tr>\n",
              "    <tr>\n",
              "      <th>1</th>\n",
              "      <td>4</td>\n",
              "      <td>NaN</td>\n",
              "      <td>NaN</td>\n",
              "      <td>Forest fire near La Ronge Sask. Canada</td>\n",
              "      <td>1</td>\n",
              "      <td>7</td>\n",
              "      <td>38</td>\n",
              "      <td>forest fire near la ronge sask canada</td>\n",
              "    </tr>\n",
              "    <tr>\n",
              "      <th>2</th>\n",
              "      <td>5</td>\n",
              "      <td>NaN</td>\n",
              "      <td>NaN</td>\n",
              "      <td>All residents asked to 'shelter in place' are ...</td>\n",
              "      <td>1</td>\n",
              "      <td>22</td>\n",
              "      <td>133</td>\n",
              "      <td>resident ask shelter place notify officer evac...</td>\n",
              "    </tr>\n",
              "    <tr>\n",
              "      <th>3</th>\n",
              "      <td>6</td>\n",
              "      <td>NaN</td>\n",
              "      <td>NaN</td>\n",
              "      <td>13,000 people receive #wildfires evacuation or...</td>\n",
              "      <td>1</td>\n",
              "      <td>8</td>\n",
              "      <td>65</td>\n",
              "      <td>people receive wildfire evacuation order calif...</td>\n",
              "    </tr>\n",
              "    <tr>\n",
              "      <th>4</th>\n",
              "      <td>7</td>\n",
              "      <td>NaN</td>\n",
              "      <td>NaN</td>\n",
              "      <td>Just got sent this photo from Ruby #Alaska as ...</td>\n",
              "      <td>1</td>\n",
              "      <td>16</td>\n",
              "      <td>88</td>\n",
              "      <td>get sent photo ruby alaska smoke wildfires pou...</td>\n",
              "    </tr>\n",
              "  </tbody>\n",
              "</table>\n",
              "</div>"
            ],
            "text/plain": [
              "   id keyword location                                               text  \\\n",
              "0   1     NaN      NaN  Our Deeds are the Reason of this #earthquake M...   \n",
              "1   4     NaN      NaN             Forest fire near La Ronge Sask. Canada   \n",
              "2   5     NaN      NaN  All residents asked to 'shelter in place' are ...   \n",
              "3   6     NaN      NaN  13,000 people receive #wildfires evacuation or...   \n",
              "4   7     NaN      NaN  Just got sent this photo from Ruby #Alaska as ...   \n",
              "\n",
              "   target  word_count  char_count  \\\n",
              "0       1          13          69   \n",
              "1       1           7          38   \n",
              "2       1          22         133   \n",
              "3       1           8          65   \n",
              "4       1          16          88   \n",
              "\n",
              "                                          clean_text  \n",
              "0         deed reason earthquake may allah forgive u  \n",
              "1              forest fire near la ronge sask canada  \n",
              "2  resident ask shelter place notify officer evac...  \n",
              "3  people receive wildfire evacuation order calif...  \n",
              "4  get sent photo ruby alaska smoke wildfires pou...  "
            ]
          },
          "execution_count": 86,
          "metadata": {},
          "output_type": "execute_result"
        }
      ],
      "source": [
        "def finalpreprocess(string):\n",
        "    return lemmatizer(stopword(preprocess(string)))\n",
        "df_train['clean_text'] = df_train['text'].apply(lambda x: finalpreprocess(x))\n",
        "df_train.head()"
      ]
    },
    {
      "cell_type": "markdown",
      "id": "377a0207",
      "metadata": {
        "id": "377a0207"
      },
      "source": [
        "# Extracting vectors from text (Vectorization)\n",
        "Machine learning models require numerical data, so text is converted using methods like Vectorization or Word Embedding. Common techniques include **Bag-of-Words** (BoW) and **Word2Vec**."
      ]
    },
    {
      "cell_type": "markdown",
      "id": "8e3b3e49",
      "metadata": {
        "id": "8e3b3e49"
      },
      "source": [
        "## Sklearn for BoW\n",
        "1. **Count vectors**: It builds a vocabulary from a corpus of documents and counts how many times the words appear in each document\n",
        "1. **Term Frequency-Inverse Document Frequency (TF-IDF)** is an advanced variant of Bag-of-Words that provides a more nuanced conversion of text to numerical data than simple count vectors. In TF-IDF, a word's value increases with its frequency in a document but decreases with its frequency in the corpus.\n"
      ]
    },
    {
      "cell_type": "markdown",
      "id": "e406e766",
      "metadata": {
        "id": "e406e766"
      },
      "source": [
        "## Word2Vec\n",
        "It is a popular technique using shallow neural networks, overcomes the limitations of Bag-of-Words by capturing the context, semantic and syntactic similarities, and relationships between words in a document."
      ]
    },
    {
      "cell_type": "markdown",
      "id": "f5f9469d",
      "metadata": {
        "id": "f5f9469d"
      },
      "source": [
        "## partition the dataset"
      ]
    },
    {
      "cell_type": "code",
      "execution_count": null,
      "id": "34ddeeff",
      "metadata": {
        "id": "34ddeeff"
      },
      "outputs": [],
      "source": [
        "#SPLITTING THE TRAINING DATASET INTO TRAIN AND TEST\n",
        "X_train, X_test, y_train, y_test = train_test_split(df_train[\"clean_text\"],df_train[\"target\"],test_size=0.2,shuffle=True)\n",
        "\n",
        "#Word2Vec\n",
        "# Word2Vec runs on tokenized sentences\n",
        "X_train_tok= [nltk.word_tokenize(i) for i in X_train]\n",
        "X_test_tok= [nltk.word_tokenize(i) for i in X_test]"
      ]
    },
    {
      "cell_type": "markdown",
      "id": "21982b10",
      "metadata": {
        "id": "21982b10"
      },
      "source": [
        "# <span style=\"color:red\">Exercise </span>\n",
        "Why do we divide the training data into additional training and test sets when a test set is already provided by Kaggle?"
      ]
    },
    {
      "cell_type": "markdown",
      "id": "92924d63",
      "metadata": {
        "id": "92924d63"
      },
      "source": [
        "## Bag-of-Words (with Tf-Idf ) and Word2Vec"
      ]
    },
    {
      "cell_type": "code",
      "execution_count": null,
      "id": "93353f40",
      "metadata": {
        "id": "93353f40"
      },
      "outputs": [],
      "source": [
        "#Tf-Idf\n",
        "tfidf_vectorizer = TfidfVectorizer(use_idf=True)\n",
        "X_train_vectors_tfidf = tfidf_vectorizer.fit_transform(X_train)\n",
        "X_test_vectors_tfidf = tfidf_vectorizer.transform(X_test)"
      ]
    },
    {
      "cell_type": "code",
      "execution_count": null,
      "id": "04fd4f0e",
      "metadata": {
        "id": "04fd4f0e"
      },
      "outputs": [],
      "source": [
        "#for converting sentence to vectors/numbers from word vectors result by Word2Vec\n",
        "class MeanEmbeddingVectorizer(object):\n",
        "    def __init__(self, word2vec):\n",
        "        self.word2vec = word2vec\n",
        "        # if a text is empty we should return a vector of zeros\n",
        "        # with the same dimensionality as all the other vectors\n",
        "        self.dim = len(next(iter(word2vec.values())))\n",
        "\n",
        "    def fit(self, X, y):\n",
        "        return self\n",
        "\n",
        "    def transform(self, X):\n",
        "        return np.array([\n",
        "            np.mean([self.word2vec[w] for w in words if w in self.word2vec]\n",
        "                    or [np.zeros(self.dim)], axis=0)\n",
        "            for words in X\n",
        "        ])"
      ]
    },
    {
      "cell_type": "code",
      "execution_count": null,
      "id": "9703bd89",
      "metadata": {
        "id": "9703bd89"
      },
      "outputs": [],
      "source": []
    },
    {
      "cell_type": "markdown",
      "id": "0d14b847",
      "metadata": {
        "id": "0d14b847"
      },
      "source": [
        "## create Word2vec model"
      ]
    },
    {
      "cell_type": "code",
      "execution_count": null,
      "id": "ffe87801",
      "metadata": {
        "id": "ffe87801"
      },
      "outputs": [],
      "source": [
        "\n",
        "#here words_f should be a list containing words from each document. say 1st row of the list is words from the 1st document/sentence\n",
        "#length of words_f is number of documents/sentences in your dataset\n",
        "df_train['clean_text_tok']=[nltk.word_tokenize(i) for i in df_train['clean_text']] #convert preprocessed sentence to tokenized sentence\n",
        "model = Word2Vec(df_train['clean_text_tok'],min_count=1)  #min_count=1 means word should be present at least across all documents,\n",
        "#if min_count=2 means if the word is present less than 2 times across all the documents then we shouldn't consider it\n",
        "\n",
        "w2v = dict(zip(model.wv.index_to_key, model.wv.vectors))"
      ]
    },
    {
      "cell_type": "code",
      "execution_count": null,
      "id": "0a154811",
      "metadata": {
        "id": "0a154811",
        "outputId": "dbf7f8b3-d85e-4472-f017-d5e3c6596af6"
      },
      "outputs": [
        {
          "data": {
            "text/html": [
              "<div>\n",
              "<style scoped>\n",
              "    .dataframe tbody tr th:only-of-type {\n",
              "        vertical-align: middle;\n",
              "    }\n",
              "\n",
              "    .dataframe tbody tr th {\n",
              "        vertical-align: top;\n",
              "    }\n",
              "\n",
              "    .dataframe thead th {\n",
              "        text-align: right;\n",
              "    }\n",
              "</style>\n",
              "<table border=\"1\" class=\"dataframe\">\n",
              "  <thead>\n",
              "    <tr style=\"text-align: right;\">\n",
              "      <th></th>\n",
              "      <th>id</th>\n",
              "      <th>keyword</th>\n",
              "      <th>location</th>\n",
              "      <th>text</th>\n",
              "      <th>target</th>\n",
              "      <th>word_count</th>\n",
              "      <th>char_count</th>\n",
              "      <th>clean_text</th>\n",
              "      <th>clean_text_tok</th>\n",
              "    </tr>\n",
              "  </thead>\n",
              "  <tbody>\n",
              "    <tr>\n",
              "      <th>0</th>\n",
              "      <td>1</td>\n",
              "      <td>NaN</td>\n",
              "      <td>NaN</td>\n",
              "      <td>Our Deeds are the Reason of this #earthquake M...</td>\n",
              "      <td>1</td>\n",
              "      <td>13</td>\n",
              "      <td>69</td>\n",
              "      <td>deed reason earthquake may allah forgive u</td>\n",
              "      <td>[deed, reason, earthquake, may, allah, forgive...</td>\n",
              "    </tr>\n",
              "    <tr>\n",
              "      <th>1</th>\n",
              "      <td>4</td>\n",
              "      <td>NaN</td>\n",
              "      <td>NaN</td>\n",
              "      <td>Forest fire near La Ronge Sask. Canada</td>\n",
              "      <td>1</td>\n",
              "      <td>7</td>\n",
              "      <td>38</td>\n",
              "      <td>forest fire near la ronge sask canada</td>\n",
              "      <td>[forest, fire, near, la, ronge, sask, canada]</td>\n",
              "    </tr>\n",
              "    <tr>\n",
              "      <th>2</th>\n",
              "      <td>5</td>\n",
              "      <td>NaN</td>\n",
              "      <td>NaN</td>\n",
              "      <td>All residents asked to 'shelter in place' are ...</td>\n",
              "      <td>1</td>\n",
              "      <td>22</td>\n",
              "      <td>133</td>\n",
              "      <td>resident ask shelter place notify officer evac...</td>\n",
              "      <td>[resident, ask, shelter, place, notify, office...</td>\n",
              "    </tr>\n",
              "    <tr>\n",
              "      <th>3</th>\n",
              "      <td>6</td>\n",
              "      <td>NaN</td>\n",
              "      <td>NaN</td>\n",
              "      <td>13,000 people receive #wildfires evacuation or...</td>\n",
              "      <td>1</td>\n",
              "      <td>8</td>\n",
              "      <td>65</td>\n",
              "      <td>people receive wildfire evacuation order calif...</td>\n",
              "      <td>[people, receive, wildfire, evacuation, order,...</td>\n",
              "    </tr>\n",
              "    <tr>\n",
              "      <th>4</th>\n",
              "      <td>7</td>\n",
              "      <td>NaN</td>\n",
              "      <td>NaN</td>\n",
              "      <td>Just got sent this photo from Ruby #Alaska as ...</td>\n",
              "      <td>1</td>\n",
              "      <td>16</td>\n",
              "      <td>88</td>\n",
              "      <td>get sent photo ruby alaska smoke wildfires pou...</td>\n",
              "      <td>[get, sent, photo, ruby, alaska, smoke, wildfi...</td>\n",
              "    </tr>\n",
              "    <tr>\n",
              "      <th>...</th>\n",
              "      <td>...</td>\n",
              "      <td>...</td>\n",
              "      <td>...</td>\n",
              "      <td>...</td>\n",
              "      <td>...</td>\n",
              "      <td>...</td>\n",
              "      <td>...</td>\n",
              "      <td>...</td>\n",
              "      <td>...</td>\n",
              "    </tr>\n",
              "    <tr>\n",
              "      <th>7608</th>\n",
              "      <td>10869</td>\n",
              "      <td>NaN</td>\n",
              "      <td>NaN</td>\n",
              "      <td>Two giant cranes holding a bridge collapse int...</td>\n",
              "      <td>1</td>\n",
              "      <td>11</td>\n",
              "      <td>83</td>\n",
              "      <td>two giant crane hold bridge collapse nearby ho...</td>\n",
              "      <td>[two, giant, crane, hold, bridge, collapse, ne...</td>\n",
              "    </tr>\n",
              "    <tr>\n",
              "      <th>7609</th>\n",
              "      <td>10870</td>\n",
              "      <td>NaN</td>\n",
              "      <td>NaN</td>\n",
              "      <td>@aria_ahrary @TheTawniest The out of control w...</td>\n",
              "      <td>1</td>\n",
              "      <td>20</td>\n",
              "      <td>125</td>\n",
              "      <td>aria ahrary thetawniest control wild fire cali...</td>\n",
              "      <td>[aria, ahrary, thetawniest, control, wild, fir...</td>\n",
              "    </tr>\n",
              "    <tr>\n",
              "      <th>7610</th>\n",
              "      <td>10871</td>\n",
              "      <td>NaN</td>\n",
              "      <td>NaN</td>\n",
              "      <td>M1.94 [01:04 UTC]?5km S of Volcano Hawaii. htt...</td>\n",
              "      <td>1</td>\n",
              "      <td>8</td>\n",
              "      <td>65</td>\n",
              "      <td>utc km volcano hawaii http co zdtoyd ebj</td>\n",
              "      <td>[utc, km, volcano, hawaii, http, co, zdtoyd, ebj]</td>\n",
              "    </tr>\n",
              "    <tr>\n",
              "      <th>7611</th>\n",
              "      <td>10872</td>\n",
              "      <td>NaN</td>\n",
              "      <td>NaN</td>\n",
              "      <td>Police investigating after an e-bike collided ...</td>\n",
              "      <td>1</td>\n",
              "      <td>19</td>\n",
              "      <td>137</td>\n",
              "      <td>police investigate e bike collide car little p...</td>\n",
              "      <td>[police, investigate, e, bike, collide, car, l...</td>\n",
              "    </tr>\n",
              "    <tr>\n",
              "      <th>7612</th>\n",
              "      <td>10873</td>\n",
              "      <td>NaN</td>\n",
              "      <td>NaN</td>\n",
              "      <td>The Latest: More Homes Razed by Northern Calif...</td>\n",
              "      <td>1</td>\n",
              "      <td>13</td>\n",
              "      <td>94</td>\n",
              "      <td>late home raze northern california wildfire ab...</td>\n",
              "      <td>[late, home, raze, northern, california, wildf...</td>\n",
              "    </tr>\n",
              "  </tbody>\n",
              "</table>\n",
              "<p>7613 rows × 9 columns</p>\n",
              "</div>"
            ],
            "text/plain": [
              "         id keyword location  \\\n",
              "0         1     NaN      NaN   \n",
              "1         4     NaN      NaN   \n",
              "2         5     NaN      NaN   \n",
              "3         6     NaN      NaN   \n",
              "4         7     NaN      NaN   \n",
              "...     ...     ...      ...   \n",
              "7608  10869     NaN      NaN   \n",
              "7609  10870     NaN      NaN   \n",
              "7610  10871     NaN      NaN   \n",
              "7611  10872     NaN      NaN   \n",
              "7612  10873     NaN      NaN   \n",
              "\n",
              "                                                   text  target  word_count  \\\n",
              "0     Our Deeds are the Reason of this #earthquake M...       1          13   \n",
              "1                Forest fire near La Ronge Sask. Canada       1           7   \n",
              "2     All residents asked to 'shelter in place' are ...       1          22   \n",
              "3     13,000 people receive #wildfires evacuation or...       1           8   \n",
              "4     Just got sent this photo from Ruby #Alaska as ...       1          16   \n",
              "...                                                 ...     ...         ...   \n",
              "7608  Two giant cranes holding a bridge collapse int...       1          11   \n",
              "7609  @aria_ahrary @TheTawniest The out of control w...       1          20   \n",
              "7610  M1.94 [01:04 UTC]?5km S of Volcano Hawaii. htt...       1           8   \n",
              "7611  Police investigating after an e-bike collided ...       1          19   \n",
              "7612  The Latest: More Homes Razed by Northern Calif...       1          13   \n",
              "\n",
              "      char_count                                         clean_text  \\\n",
              "0             69         deed reason earthquake may allah forgive u   \n",
              "1             38              forest fire near la ronge sask canada   \n",
              "2            133  resident ask shelter place notify officer evac...   \n",
              "3             65  people receive wildfire evacuation order calif...   \n",
              "4             88  get sent photo ruby alaska smoke wildfires pou...   \n",
              "...          ...                                                ...   \n",
              "7608          83  two giant crane hold bridge collapse nearby ho...   \n",
              "7609         125  aria ahrary thetawniest control wild fire cali...   \n",
              "7610          65           utc km volcano hawaii http co zdtoyd ebj   \n",
              "7611         137  police investigate e bike collide car little p...   \n",
              "7612          94  late home raze northern california wildfire ab...   \n",
              "\n",
              "                                         clean_text_tok  \n",
              "0     [deed, reason, earthquake, may, allah, forgive...  \n",
              "1         [forest, fire, near, la, ronge, sask, canada]  \n",
              "2     [resident, ask, shelter, place, notify, office...  \n",
              "3     [people, receive, wildfire, evacuation, order,...  \n",
              "4     [get, sent, photo, ruby, alaska, smoke, wildfi...  \n",
              "...                                                 ...  \n",
              "7608  [two, giant, crane, hold, bridge, collapse, ne...  \n",
              "7609  [aria, ahrary, thetawniest, control, wild, fir...  \n",
              "7610  [utc, km, volcano, hawaii, http, co, zdtoyd, ebj]  \n",
              "7611  [police, investigate, e, bike, collide, car, l...  \n",
              "7612  [late, home, raze, northern, california, wildf...  \n",
              "\n",
              "[7613 rows x 9 columns]"
            ]
          },
          "execution_count": 126,
          "metadata": {},
          "output_type": "execute_result"
        }
      ],
      "source": [
        "df_train"
      ]
    },
    {
      "cell_type": "code",
      "execution_count": null,
      "id": "4d9d27fe",
      "metadata": {
        "id": "4d9d27fe"
      },
      "outputs": [],
      "source": []
    },
    {
      "cell_type": "code",
      "execution_count": null,
      "id": "1cb460b4",
      "metadata": {
        "id": "1cb460b4"
      },
      "outputs": [],
      "source": [
        "# converting text to numerical data using Word2Vec\n",
        "modelw = MeanEmbeddingVectorizer(w2v)\n",
        "X_train_vectors_w2v = modelw.transform(X_train_tok)\n",
        "X_test_vectors_w2v = modelw.transform(X_test_tok)"
      ]
    },
    {
      "cell_type": "code",
      "execution_count": null,
      "id": "c7571b8a",
      "metadata": {
        "id": "c7571b8a",
        "outputId": "107d3446-18a7-4094-e239-1027d37ee150"
      },
      "outputs": [
        {
          "data": {
            "text/plain": [
              "array([[-0.43459368,  0.41957116,  0.1349785 , ..., -0.666574  ,\n",
              "         0.1116398 , -0.15157208],\n",
              "       [-0.06221914,  0.05752639,  0.01792976, ..., -0.09099243,\n",
              "         0.01582837, -0.02560844],\n",
              "       [-0.4094105 ,  0.38628498,  0.1286214 , ..., -0.6203714 ,\n",
              "         0.10419885, -0.14634758],\n",
              "       ...,\n",
              "       [-0.12512371,  0.11251997,  0.03814226, ..., -0.18855771,\n",
              "         0.03583333, -0.04679265],\n",
              "       [-0.13948311,  0.12405509,  0.04253467, ..., -0.20542847,\n",
              "         0.04202238, -0.05018463],\n",
              "       [-0.2772887 ,  0.2609621 ,  0.08535441, ..., -0.41915277,\n",
              "         0.07309496, -0.09973972]], dtype=float32)"
            ]
          },
          "execution_count": 128,
          "metadata": {},
          "output_type": "execute_result"
        }
      ],
      "source": [
        "X_train_vectors_w2v"
      ]
    },
    {
      "cell_type": "code",
      "execution_count": null,
      "id": "6bd9db43",
      "metadata": {
        "id": "6bd9db43",
        "outputId": "279130f0-a492-42ad-ade2-2a30343e8554"
      },
      "outputs": [
        {
          "data": {
            "text/plain": [
              "((6090, 100), (1523, 100))"
            ]
          },
          "execution_count": 129,
          "metadata": {},
          "output_type": "execute_result"
        }
      ],
      "source": [
        "X_train_vectors_w2v.shape, X_val_vectors_w2v.shape"
      ]
    },
    {
      "cell_type": "markdown",
      "id": "b132bdd5",
      "metadata": {
        "id": "b132bdd5"
      },
      "source": [
        "## Running ML algorithms\n",
        "### Logistic Regression - tf-idf"
      ]
    },
    {
      "cell_type": "code",
      "execution_count": null,
      "id": "eb5a3c77",
      "metadata": {
        "id": "eb5a3c77",
        "outputId": "56355af1-f12f-4839-c7b7-3f26ef6de290"
      },
      "outputs": [
        {
          "name": "stdout",
          "output_type": "stream",
          "text": [
            "              precision    recall  f1-score   support\n",
            "\n",
            "           0       0.80      0.82      0.81       860\n",
            "           1       0.76      0.73      0.74       663\n",
            "\n",
            "    accuracy                           0.78      1523\n",
            "   macro avg       0.78      0.78      0.78      1523\n",
            "weighted avg       0.78      0.78      0.78      1523\n",
            "\n",
            "Confusion Matrix: [[708 152]\n",
            " [180 483]]\n",
            "AUC: 0.8533217580413203\n"
          ]
        }
      ],
      "source": [
        "#FITTING THE CLASSIFICATION MODEL using Logistic Regression(tf-idf)\n",
        "\n",
        "lr_tfidf=LogisticRegression(solver = 'liblinear', C=10, penalty = 'l2')\n",
        "lr_tfidf.fit(X_train_vectors_tfidf, y_train)  #model\n",
        "\n",
        "#Predict y value for test dataset\n",
        "y_predict = lr_tfidf.predict(X_test_vectors_tfidf)\n",
        "y_prob = lr_tfidf.predict_proba(X_test_vectors_tfidf)[:,1]\n",
        "\n",
        "\n",
        "print(classification_report(y_test,y_predict))\n",
        "print('Confusion Matrix:',confusion_matrix(y_test, y_predict))\n",
        "\n",
        "fpr, tpr, thresholds = roc_curve(y_test, y_prob)\n",
        "roc_auc = auc(fpr, tpr)\n",
        "print('AUC:', roc_auc)"
      ]
    },
    {
      "cell_type": "markdown",
      "id": "eecc3fb1",
      "metadata": {
        "id": "eecc3fb1"
      },
      "source": [
        "### Logistic Regression - w2vec"
      ]
    },
    {
      "cell_type": "code",
      "execution_count": null,
      "id": "072c7cb9",
      "metadata": {
        "id": "072c7cb9",
        "outputId": "90ead1a8-08dd-4e94-8a1d-78f4e71fc43a"
      },
      "outputs": [
        {
          "name": "stdout",
          "output_type": "stream",
          "text": [
            "              precision    recall  f1-score   support\n",
            "\n",
            "           0       0.64      0.86      0.73       860\n",
            "           1       0.67      0.37      0.48       663\n",
            "\n",
            "    accuracy                           0.65      1523\n",
            "   macro avg       0.66      0.62      0.61      1523\n",
            "weighted avg       0.65      0.65      0.62      1523\n",
            "\n",
            "Confusion Matrix: [[738 122]\n",
            " [415 248]]\n",
            "AUC: 0.7170297099161669\n"
          ]
        }
      ],
      "source": [
        "#FITTING THE CLASSIFICATION MODEL using Logistic Regression (W2v)\n",
        "lr_w2v=LogisticRegression(solver = 'liblinear', C=10, penalty = 'l2')\n",
        "lr_w2v.fit(X_train_vectors_w2v, y_train)  #model\n",
        "\n",
        "#Predict y value for test dataset\n",
        "y_predict = lr_w2v.predict(X_test_vectors_w2v)\n",
        "y_prob = lr_w2v.predict_proba(X_test_vectors_w2v)[:,1]\n",
        "\n",
        "\n",
        "print(classification_report(y_test,y_predict))\n",
        "print('Confusion Matrix:',confusion_matrix(y_test, y_predict))\n",
        "\n",
        "fpr, tpr, thresholds = roc_curve(y_test, y_prob)\n",
        "roc_auc = auc(fpr, tpr)\n",
        "print('AUC:', roc_auc)"
      ]
    },
    {
      "cell_type": "markdown",
      "id": "16b0e4a6",
      "metadata": {
        "id": "16b0e4a6"
      },
      "source": [
        "## Naive Bayes"
      ]
    },
    {
      "cell_type": "code",
      "execution_count": null,
      "id": "85d3e571",
      "metadata": {
        "id": "85d3e571",
        "outputId": "25ea8c56-5574-4cc6-884c-27b2dce9a0b8"
      },
      "outputs": [
        {
          "name": "stdout",
          "output_type": "stream",
          "text": [
            "              precision    recall  f1-score   support\n",
            "\n",
            "           0       0.77      0.91      0.83       860\n",
            "           1       0.85      0.64      0.73       663\n",
            "\n",
            "    accuracy                           0.79      1523\n",
            "   macro avg       0.81      0.78      0.78      1523\n",
            "weighted avg       0.80      0.79      0.79      1523\n",
            "\n",
            "Confusion Matrix: [[783  77]\n",
            " [237 426]]\n",
            "AUC: 0.8521256445333053\n"
          ]
        }
      ],
      "source": [
        "nb_tfidf = MultinomialNB()\n",
        "nb_tfidf.fit(X_train_vectors_tfidf, y_train)  #model\n",
        "\n",
        "#Predict y value for test dataset\n",
        "y_predict = nb_tfidf.predict(X_test_vectors_tfidf)\n",
        "y_prob = nb_tfidf.predict_proba(X_test_vectors_tfidf)[:,1]\n",
        "\n",
        "\n",
        "print(classification_report(y_test,y_predict))\n",
        "print('Confusion Matrix:',confusion_matrix(y_test, y_predict))\n",
        "\n",
        "fpr, tpr, thresholds = roc_curve(y_test, y_prob)\n",
        "roc_auc = auc(fpr, tpr)\n",
        "print('AUC:', roc_auc)"
      ]
    },
    {
      "cell_type": "markdown",
      "id": "112e3111",
      "metadata": {
        "id": "112e3111"
      },
      "source": [
        "# Testing with the actual test set"
      ]
    },
    {
      "cell_type": "code",
      "execution_count": null,
      "id": "6f9b1f9a",
      "metadata": {
        "id": "6f9b1f9a",
        "outputId": "612cb548-5549-42e0-ad8a-820951c854da"
      },
      "outputs": [
        {
          "name": "stdout",
          "output_type": "stream",
          "text": [
            "   id keyword location                                               text  \\\n",
            "0   0     NaN      NaN                 Just happened a terrible car crash   \n",
            "1   2     NaN      NaN  Heard about #earthquake is different cities, s...   \n",
            "2   3     NaN      NaN  there is a forest fire at spot pond, geese are...   \n",
            "3   9     NaN      NaN           Apocalypse lighting. #Spokane #wildfires   \n",
            "4  11     NaN      NaN      Typhoon Soudelor kills 28 in China and Taiwan   \n",
            "\n",
            "   target                                         clean_text  predict_prob  \n",
            "0       1                          happen terrible car crash      0.908002  \n",
            "1       1  heard earthquake different city stay safe ever...      0.960655  \n",
            "2       1  forest fire spot pond geese flee across street...      0.900619  \n",
            "3       1                  apocalypse light spokane wildfire      0.858208  \n",
            "4       1                 typhoon soudelor kill china taiwan      0.996358  \n"
          ]
        }
      ],
      "source": [
        "#Testing it on new dataset with the best model\n",
        "df_test=pd.read_csv('test.csv')  #reading the data\n",
        "df_test['clean_text'] = df_test['text'].apply(lambda x: finalpreprocess(x)) #preprocess the data\n",
        "X_test=df_test['clean_text']\n",
        "X_vector=tfidf_vectorizer.transform(X_test) #converting X_test to vector\n",
        "y_predict = lr_tfidf.predict(X_vector)      #use the trained model on X_vector\n",
        "y_prob = lr_tfidf.predict_proba(X_vector)[:,1]\n",
        "df_test['predict_prob']= y_prob\n",
        "df_test['target']= y_predict\n",
        "print(df_test.head())"
      ]
    },
    {
      "cell_type": "code",
      "execution_count": null,
      "id": "5806b3d2",
      "metadata": {
        "id": "5806b3d2",
        "outputId": "6e6b9a64-ed3c-4618-a09c-58af36621c7f"
      },
      "outputs": [
        {
          "data": {
            "text/html": [
              "<div>\n",
              "<style scoped>\n",
              "    .dataframe tbody tr th:only-of-type {\n",
              "        vertical-align: middle;\n",
              "    }\n",
              "\n",
              "    .dataframe tbody tr th {\n",
              "        vertical-align: top;\n",
              "    }\n",
              "\n",
              "    .dataframe thead th {\n",
              "        text-align: right;\n",
              "    }\n",
              "</style>\n",
              "<table border=\"1\" class=\"dataframe\">\n",
              "  <thead>\n",
              "    <tr style=\"text-align: right;\">\n",
              "      <th></th>\n",
              "      <th>id</th>\n",
              "      <th>target</th>\n",
              "    </tr>\n",
              "  </thead>\n",
              "  <tbody>\n",
              "    <tr>\n",
              "      <th>0</th>\n",
              "      <td>0</td>\n",
              "      <td>1</td>\n",
              "    </tr>\n",
              "    <tr>\n",
              "      <th>1</th>\n",
              "      <td>2</td>\n",
              "      <td>1</td>\n",
              "    </tr>\n",
              "    <tr>\n",
              "      <th>2</th>\n",
              "      <td>3</td>\n",
              "      <td>1</td>\n",
              "    </tr>\n",
              "    <tr>\n",
              "      <th>3</th>\n",
              "      <td>9</td>\n",
              "      <td>1</td>\n",
              "    </tr>\n",
              "    <tr>\n",
              "      <th>4</th>\n",
              "      <td>11</td>\n",
              "      <td>1</td>\n",
              "    </tr>\n",
              "    <tr>\n",
              "      <th>...</th>\n",
              "      <td>...</td>\n",
              "      <td>...</td>\n",
              "    </tr>\n",
              "    <tr>\n",
              "      <th>3258</th>\n",
              "      <td>10861</td>\n",
              "      <td>0</td>\n",
              "    </tr>\n",
              "    <tr>\n",
              "      <th>3259</th>\n",
              "      <td>10865</td>\n",
              "      <td>1</td>\n",
              "    </tr>\n",
              "    <tr>\n",
              "      <th>3260</th>\n",
              "      <td>10868</td>\n",
              "      <td>1</td>\n",
              "    </tr>\n",
              "    <tr>\n",
              "      <th>3261</th>\n",
              "      <td>10874</td>\n",
              "      <td>1</td>\n",
              "    </tr>\n",
              "    <tr>\n",
              "      <th>3262</th>\n",
              "      <td>10875</td>\n",
              "      <td>1</td>\n",
              "    </tr>\n",
              "  </tbody>\n",
              "</table>\n",
              "<p>3263 rows × 2 columns</p>\n",
              "</div>"
            ],
            "text/plain": [
              "         id  target\n",
              "0         0       1\n",
              "1         2       1\n",
              "2         3       1\n",
              "3         9       1\n",
              "4        11       1\n",
              "...     ...     ...\n",
              "3258  10861       0\n",
              "3259  10865       1\n",
              "3260  10868       1\n",
              "3261  10874       1\n",
              "3262  10875       1\n",
              "\n",
              "[3263 rows x 2 columns]"
            ]
          },
          "execution_count": 138,
          "metadata": {},
          "output_type": "execute_result"
        }
      ],
      "source": [
        "final=df_test[['id','target']].reset_index(drop=True)\n",
        "final"
      ]
    },
    {
      "cell_type": "markdown",
      "id": "076c6942",
      "metadata": {
        "id": "076c6942"
      },
      "source": [
        "# <span style =\"color:red\">Excerice</span>\n",
        "Merge the validation and train test and retrain the model (logistic reg) and see if it helps imrpoving the final dataset"
      ]
    },
    {
      "cell_type": "code",
      "execution_count": null,
      "id": "8b93f12b",
      "metadata": {
        "id": "8b93f12b"
      },
      "outputs": [],
      "source": []
    },
    {
      "cell_type": "code",
      "execution_count": null,
      "id": "9f2cff07",
      "metadata": {
        "id": "9f2cff07"
      },
      "outputs": [],
      "source": []
    },
    {
      "cell_type": "markdown",
      "id": "1390565c",
      "metadata": {
        "id": "1390565c"
      },
      "source": [
        "#  Resources\n",
        "1. [Text classifiation](https://github.com/vijayaiitk/NLP-text-classification-model/tree/main)"
      ]
    },
    {
      "cell_type": "code",
      "execution_count": null,
      "id": "9570d58d",
      "metadata": {
        "id": "9570d58d"
      },
      "outputs": [],
      "source": []
    }
  ],
  "metadata": {
    "celltoolbar": "Slideshow",
    "kernelspec": {
      "display_name": "Python 3 (ipykernel)",
      "language": "python",
      "name": "python3"
    },
    "language_info": {
      "codemirror_mode": {
        "name": "ipython",
        "version": 3
      },
      "file_extension": ".py",
      "mimetype": "text/x-python",
      "name": "python",
      "nbconvert_exporter": "python",
      "pygments_lexer": "ipython3",
      "version": "3.11.5"
    },
    "colab": {
      "provenance": [],
      "include_colab_link": true
    }
  },
  "nbformat": 4,
  "nbformat_minor": 5
}