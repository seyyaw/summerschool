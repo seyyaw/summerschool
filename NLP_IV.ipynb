{
  "cells": [
    {
      "cell_type": "markdown",
      "metadata": {
        "id": "view-in-github",
        "colab_type": "text"
      },
      "source": [
        "<a href=\"https://colab.research.google.com/github/seyyaw/summerschool/blob/main/NLP_IV.ipynb\" target=\"_parent\"><img src=\"https://colab.research.google.com/assets/colab-badge.svg\" alt=\"Open In Colab\"/></a>"
      ]
    },
    {
      "cell_type": "code",
      "execution_count": null,
      "id": "6a144d8d",
      "metadata": {
        "id": "6a144d8d",
        "outputId": "816416a3-0d52-452e-8867-fc2786c7009e"
      },
      "outputs": [
        {
          "data": {
            "text/html": [
              "<style> \n",
              "table {display: block;} \n",
              "td {\n",
              "  font-size: 18px\n",
              "}\n",
              ".rendered_html { font-size: 28px; }\n",
              "*{ line-height: 200%; }\n",
              "</style>\n"
            ],
            "text/plain": [
              "<IPython.core.display.HTML object>"
            ]
          },
          "metadata": {},
          "output_type": "display_data"
        }
      ],
      "source": [
        "%%html\n",
        "<style>\n",
        "table {display: block;}\n",
        "td {\n",
        "  font-size: 18px\n",
        "}\n",
        ".rendered_html { font-size: 28px; }\n",
        "*{ line-height: 200%; }\n",
        "</style>"
      ]
    },
    {
      "cell_type": "markdown",
      "id": "31ffc529",
      "metadata": {
        "id": "31ffc529"
      },
      "source": [
        "# Summer School for Women in AI and Data Sceince\n",
        "---\n",
        "---\n",
        "# <span style=\"color:blue\">Natural Language Processing</span>\n",
        " ---\n",
        "## -  <span style=\"color:red\">Seid Muhie Yimam  - UHH, HCDS</span>\n",
        "## -  <span style=\"color:red\">Hellina Hailu Negatu -  University of Berkeley</span>\n",
        "---\n",
        "---"
      ]
    },
    {
      "cell_type": "markdown",
      "id": "6bf2b760",
      "metadata": {
        "id": "6bf2b760"
      },
      "source": [
        "# EthioNLP Resources"
      ]
    },
    {
      "cell_type": "markdown",
      "id": "3621639e",
      "metadata": {
        "id": "3621639e"
      },
      "source": [
        "![](https://ethionlp.github.io/resources/img/Ethiopia.png)"
      ]
    },
    {
      "cell_type": "markdown",
      "id": "0c39397f",
      "metadata": {
        "id": "0c39397f"
      },
      "source": [
        "# Publications\n",
        "https://ethionlp.github.io/publications.html\n",
        "-  EthioLLM: Language Models for Ethiopian Languages with Task Evaluation.\n",
        "-  Evaluating Gender Bias in Machine Translation for Low-Resource Languages.\n",
        "-  Walia-LLM: Enhancing Amharic-LLaMA by Integrating Task-Specific and Generative Datasets.\n",
        "- Natural Language Processing in Ethiopian Languages: Current State, Challenges, and Opportunities."
      ]
    },
    {
      "cell_type": "markdown",
      "id": "3fd8a851",
      "metadata": {
        "id": "3fd8a851"
      },
      "source": [
        "# Important topics\n",
        "- Social NLP\n",
        "    - Hate speech\n",
        "    - Sentiment analysis\n",
        "    - social media analysis\n",
        "- Health and NLP\n",
        "    - time series data\n",
        "    - medical notes\n",
        "    - health advisory\n",
        "- Legal NLP\n",
        "    - recommendation\n",
        "    - Advisory\n",
        "- Educational NLP\n",
        "- Agriculture and NLP\n",
        "- Machine translation\n",
        "- Generative AI"
      ]
    },
    {
      "cell_type": "markdown",
      "id": "b54d816d",
      "metadata": {
        "id": "b54d816d"
      },
      "source": [
        "# Challenges\n",
        "- Limited computational resources.\n",
        "- Data shortages.\n",
        "- Fragmented research and resources."
      ]
    },
    {
      "cell_type": "markdown",
      "id": "c405cf19",
      "metadata": {
        "id": "c405cf19"
      },
      "source": [
        "# Opportunities\n",
        "- A big interest in low-resource and low-income AI research\n",
        "- More collaboration around the world\n",
        "- Join EthioNLP, there possible collaborators\n"
      ]
    },
    {
      "cell_type": "markdown",
      "id": "97710261",
      "metadata": {
        "id": "97710261"
      },
      "source": [
        "# AI, NLP, Data Science opportunities\n",
        "- [EthioNLP](https://ethionlp.github.io/)\n",
        "- [Masakhane](https://www.masakhane.io/)\n",
        "- [Data Science Africa](https://www.datascienceafrica.org/)\n",
        "- [Deep Learning Indaba](https://deeplearningindaba.com/2024/)"
      ]
    },
    {
      "cell_type": "code",
      "execution_count": null,
      "id": "ca0ccee9",
      "metadata": {
        "id": "ca0ccee9"
      },
      "outputs": [],
      "source": []
    }
  ],
  "metadata": {
    "kernelspec": {
      "display_name": "Python 3 (ipykernel)",
      "language": "python",
      "name": "python3"
    },
    "language_info": {
      "codemirror_mode": {
        "name": "ipython",
        "version": 3
      },
      "file_extension": ".py",
      "mimetype": "text/x-python",
      "name": "python",
      "nbconvert_exporter": "python",
      "pygments_lexer": "ipython3",
      "version": "3.11.5"
    },
    "colab": {
      "provenance": [],
      "include_colab_link": true
    }
  },
  "nbformat": 4,
  "nbformat_minor": 5
}